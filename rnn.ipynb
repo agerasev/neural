{
 "cells": [
  {
   "cell_type": "code",
   "execution_count": 2,
   "metadata": {},
   "outputs": [
    {
     "name": "stdout",
     "output_type": "stream",
     "text": [
      "The autoreload extension is already loaded. To reload it, use:\n",
      "  %reload_ext autoreload\n"
     ]
    }
   ],
   "source": [
    "import numpy as np\n",
    "import os\n",
    "import gzip\n",
    "import struct\n",
    "import random\n",
    "import time\n",
    "import signal\n",
    "\n",
    "%matplotlib inline\n",
    "import matplotlib.pyplot as plt\n",
    "plt.rcParams['figure.figsize'] = (10.0, 8.0)\n",
    "plt.rcParams['image.interpolation'] = 'bilinear'\n",
    "plt.rcParams['image.cmap'] = 'gray'\n",
    "\n",
    "from IPython.display import clear_output, display\n",
    "\n",
    "from util import *\n",
    "from layer import *\n",
    "from optim import *\n",
    "from net import Net\n",
    "\n",
    "%load_ext autoreload\n",
    "%autoreload 2"
   ]
  },
  {
   "cell_type": "code",
   "execution_count": 3,
   "metadata": {},
   "outputs": [
    {
     "name": "stdout",
     "output_type": "stream",
     "text": [
      "['\\n', ' ', '!', '\"', \"'\", '(', ')', '*', ',', '-', '.', '0', '1', '2', '3', '4', '5', '6', '7', '8', '9', ':', ';', '?', 'A', 'B', 'C', 'D', 'E', 'F', 'G', 'H', 'I', 'J', 'K', 'L', 'M', 'N', 'O', 'P', 'Q', 'R', 'S', 'T', 'U', 'V', 'W', 'X', 'Y', 'Z', 'a', 'b', 'c', 'd', 'e', 'f', 'g', 'h', 'i', 'j', 'k', 'l', 'm', 'n', 'o', 'p', 'q', 'r', 's', 't', 'u', 'v', 'w', 'x', 'y', 'z', 'А', 'Б', 'В', 'Г', 'Д', 'Е', 'Ж', 'З', 'И', 'Й', 'К', 'Л', 'М', 'Н', 'О', 'П', 'Р', 'С', 'Т', 'У', 'Ф', 'Х', 'Ц', 'Ч', 'Ш', 'Щ', 'Ы', 'Ь', 'Э', 'Ю', 'Я', 'а', 'б', 'в', 'г', 'д', 'е', 'ж', 'з', 'и', 'й', 'к', 'л', 'м', 'н', 'о', 'п', 'р', 'с', 'т', 'у', 'ф', 'х', 'ц', 'ч', 'ш', 'щ', 'ъ', 'ы', 'ь', 'э', 'ю', 'я', 'ё']\n",
      "5088376 chars, 140 unique\n"
     ]
    }
   ],
   "source": [
    "text = \"\"\n",
    "ddir = \"data/books/witcher_rus/\"\n",
    "for fn in sorted(os.listdir(ddir)):\n",
    "    if fn.endswith(\".gz\"):\n",
    "        with gzip.open(ddir + fn, \"rb\") as f:\n",
    "            text += f.read().decode(\"utf-8\").replace(\"\\r\", \"\")\n",
    "charset = sorted(set(text))\n",
    "print(charset)\n",
    "print(\"%s chars, %s unique\" % (len(text), len(charset)))\n",
    "chidx = {ch: i for i, ch in enumerate(charset)}\n",
    "\n",
    "raw_data = [chidx[ch] for ch in text]\n",
    "data = np.array(raw_data, dtype=np.uint8)\n",
    "dvec = np.eye(len(charset), dtype=np.float64)"
   ]
  },
  {
   "cell_type": "code",
   "execution_count": 20,
   "metadata": {},
   "outputs": [
    {
     "name": "stdout",
     "output_type": "stream",
     "text": [
      "25441 chars in sequence\n"
     ]
    }
   ],
   "source": [
    "batch_size = 200\n",
    "seqlen = 100\n",
    "\n",
    "blen = len(data)//batch_size\n",
    "print(\"%s chars in sequence\" % blen)\n",
    "bseqdata = data[:blen*batch_size].reshape(batch_size, blen).transpose()\n",
    "#print(''.join([charset[k] for k in bseqdata.transpose()[-1]]))"
   ]
  },
  {
   "cell_type": "code",
   "execution_count": 5,
   "metadata": {},
   "outputs": [],
   "source": [
    "class RNN(Net):\n",
    "    def __init__(self, sizes):\n",
    "        self.sizes = sizes\n",
    "        sx, sh, sy = sizes\n",
    "        layers = [\n",
    "            Affine(sx, sh), # W_xh\n",
    "            Affine(sh, sh), # W_hh\n",
    "            Affine(sh, sy), # W_hy\n",
    "            Tanh()\n",
    "        ]\n",
    "        links = [\n",
    "            ((-1, 0), 0), # x\n",
    "            ((-1, 1), 1), # h_in\n",
    "            (0, 3),\n",
    "            (1, 3),\n",
    "            (3, 2),\n",
    "            (3, (-1, 1)), # h_out\n",
    "            (2, (-1, 0)), # y\n",
    "        ]\n",
    "        super().__init__(layers, links)\n",
    "    \n",
    "    def newstate(self, count):\n",
    "        return np.zeros((count, self.sizes[1]), dtype=np.float64)\n",
    "\n",
    "class LSTM(Net):\n",
    "    def __init__(self, sizes):\n",
    "        self.sizes = sizes\n",
    "        sx, sh, sy = sizes\n",
    "        layers = [\n",
    "            Affine(sx, sh), #  0, W_xh\n",
    "            Affine(sh, sy), #  1, W_hy\n",
    "            Affine(sh, sh), #  2, W_hc\n",
    "            Tanh(),         #  3, a_hc\n",
    "            Affine(sh, sh), #  4, W_f\n",
    "            Sigmoid(),      #  5, a_f\n",
    "            Affine(sh, sh), #  6, W_i\n",
    "            Sigmoid(),      #  7, a_i\n",
    "            Product(),      #  8, p_ih\n",
    "            Affine(sh, sh), #  9, W_o\n",
    "            Sigmoid(),      # 10, a_o\n",
    "            Product(),      # 11, p_cf\n",
    "            Tanh(),         # 12, a_ch\n",
    "            Product(),      # 13, p_ho\n",
    "            Uniform(),      # 14, _xh\n",
    "            Uniform(),      # 15, _ch\n",
    "        ]\n",
    "        links = [\n",
    "            ((-1, 0), 0), # x\n",
    "            (0, 14),\n",
    "            ((-1, 1), 14),# h_in\n",
    "            ((-1, 2), (8, 0)), # c_in\n",
    "            (14, 4),\n",
    "            (4, 5),\n",
    "            (5, (8, 1)),\n",
    "            (14, 6),\n",
    "            (6, 7),\n",
    "            (7, (13, 0)),\n",
    "            (14, 2),\n",
    "            (2, 3),\n",
    "            (3, (13, 1)),\n",
    "            (8, 15),\n",
    "            (13, 15),\n",
    "            (15, (-1, 2)), # c_out\n",
    "            (15, 12),\n",
    "            (12, (11, 0)),\n",
    "            (14, 9),\n",
    "            (9, 10),\n",
    "            (10, (11, 1)),\n",
    "            (11, (-1, 1)), # h_out\n",
    "            (11, 1),\n",
    "            (1, (-1, 0)), # y\n",
    "        ]\n",
    "        super().__init__(layers, links)\n",
    "    \n",
    "    def newstate(self, count):\n",
    "        return (\n",
    "            np.zeros((count, self.sizes[1]), dtype=np.float64),\n",
    "            np.zeros((count, self.sizes[1]), dtype=np.float64),\n",
    "        )\n"
   ]
  },
  {
   "cell_type": "markdown",
   "metadata": {},
   "source": [
    "![LSTM Route](lstm_route.png)"
   ]
  },
  {
   "cell_type": "code",
   "execution_count": 6,
   "metadata": {},
   "outputs": [],
   "source": [
    "class Solver:\n",
    "    def __init__(self, net, **params):\n",
    "        self.params = params\n",
    "        self.name = params[\"name\"]\n",
    "        self.net = net\n",
    "        \n",
    "        if params.get(\"adagrad\", False):\n",
    "            self.optim = Adagrad(\n",
    "                adagrad=self.net.newgrad(),\n",
    "                learn_rate=params[\"learn_rate\"],\n",
    "                reg_rate=params.get(\"reg_rate\", 0)\n",
    "            )\n",
    "        else:\n",
    "            self.optim = SGD(\n",
    "                learn_rate=params[\"learn_rate\"],\n",
    "                reg_rate=params.get(\"reg_rate\", 0)\n",
    "            )\n",
    "        \n",
    "        self.loss_history = []\n",
    "        \n",
    "    def learn(self, inseq, outseq):\n",
    "        if inseq.shape[0] != outseq.shape[0]:\n",
    "            mlen = min((inseq.shape[0], outseq.shape[0]))\n",
    "            inseq = inseq[0:mlen]\n",
    "            outseq = outseq[0:mlen]\n",
    "        seqlen = inseq.shape[0]\n",
    "        \n",
    "        loss = 0.0\n",
    "        cache = []\n",
    "        \n",
    "        h = self.net.newstate(self.params[\"batch_size\"])\n",
    "        if isinstance(h, np.ndarray):\n",
    "            h = (h,)\n",
    "        for x, ir in zip(dvec[inseq], outseq):\n",
    "            ovs, m = self.net.forward((x, *h))\n",
    "            y, h = ovs[0], ovs[1:]\n",
    "            smy = softmax(y)\n",
    "            cache.append((m, smy, ir))\n",
    "            loss += ce_loss(smy, ir)\n",
    "        loss /= len(cache)\n",
    "\n",
    "        grad = self.net.newgrad()\n",
    "        dh = self.net.newstate(self.params[\"batch_size\"])\n",
    "        if isinstance(dh, np.ndarray):\n",
    "            dh = (dh,)\n",
    "        for m, smy, ir in reversed(cache):\n",
    "            ovs = self.net.backward(grad, m, (ce_softmax_deriv(smy, ir), *dh))\n",
    "            dh = ovs[1:]\n",
    "\n",
    "        self.optim.learn(self.net, grad, norm=len(cache), clip=self.params.get(\"grad_clip\", 0))\n",
    "\n",
    "        self.loss_history.append(loss)\n",
    "            \n",
    "    def sample(self, seed, textlen):\n",
    "        h = self.net.newstate(1)\n",
    "        if isinstance(h, np.ndarray):\n",
    "            h = (h,)\n",
    "        text = \"\"\n",
    "        c = seed\n",
    "        x = dvec[c].reshape(1, -1)\n",
    "        text += charset[c]\n",
    "        for i in range(textlen):\n",
    "            ovs, _ = self.net.forward((x, *h))\n",
    "            y, h = ovs[0], ovs[1:]\n",
    "            smy = softmax(y)\n",
    "            c = np.random.choice(np.arange(len(charset)), p=smy.reshape(-1))\n",
    "            text += charset[c]\n",
    "            x = dvec[c].reshape(1, -1)\n",
    "        return text"
   ]
  },
  {
   "cell_type": "code",
   "execution_count": 7,
   "metadata": {},
   "outputs": [],
   "source": [
    "def plot_solvers(sols, red=10, win=100):\n",
    "    if isinstance(sols, Solver):\n",
    "        sols = [sols]\n",
    "        \n",
    "    plt.subplot(2, 1, 1)\n",
    "    for sol in sols:\n",
    "        plt.plot(sol.loss_history[::red], label=sol.name)\n",
    "    plt.legend()\n",
    "\n",
    "    plt.subplot(2, 1, 2)\n",
    "    for sol in sols:\n",
    "        plt.plot(\n",
    "            sol.loss_history[-win:], \n",
    "            label=\"%s loss: %.4f\" % (sol.name, sol.loss_history[-1])\n",
    "        )\n",
    "    plt.legend()\n",
    "    \n",
    "    plt.show()"
   ]
  },
  {
   "cell_type": "code",
   "execution_count": 8,
   "metadata": {},
   "outputs": [],
   "source": [
    "params = {\n",
    "    \"batch_size\": batch_size,\n",
    "    \"grad_clip\": 5,\n",
    "    \"adagrad\": True,\n",
    "    \n",
    "    \"learn_rate\": 1e-1,\n",
    "    \"reg_rate\": 0,\n",
    "}\n",
    "\n",
    "hidden_size = 100\n",
    "\n",
    "solvers = []\n",
    "for Type, name in [(RNN, \"RNN\"), (LSTM, \"LSTM\")]:\n",
    "    solvers.append(Solver(\n",
    "        Type((len(charset), hidden_size, len(charset))),\n",
    "        name=name, **params\n",
    "    ))"
   ]
  },
  {
   "cell_type": "code",
   "execution_count": 9,
   "metadata": {},
   "outputs": [],
   "source": [
    "epoch = 0\n",
    "pos = 0"
   ]
  },
  {
   "cell_type": "code",
   "execution_count": null,
   "metadata": {
    "scrolled": false
   },
   "outputs": [],
   "source": [
    "done = False\n",
    "def signal_handler(signal, frame):\n",
    "    global done\n",
    "    done = True\n",
    "signal.signal(signal.SIGINT, signal_handler)\n",
    "\n",
    "while not done:\n",
    "    for sol in solvers:\n",
    "        sol.learn(bseqdata[pos:pos+seqlen], bseqdata[pos+1:pos+seqlen+1])\n",
    "    \n",
    "    pos += seqlen\n",
    "    if pos >= bseqdata.shape[0] - 1:\n",
    "        pos = 0\n",
    "        epoch += 1\n",
    "\n",
    "print(\"done\")"
   ]
  },
  {
   "cell_type": "code",
   "execution_count": 23,
   "metadata": {},
   "outputs": [
    {
     "data": {
      "image/png": "[encoded data removed]",
      "text/plain": [
       "<Figure size 720x576 with 2 Axes>"
      ]
     },
     "metadata": {},
     "output_type": "display_data"
    }
   ],
   "source": [
    "plot_solvers(solvers)"
   ]
  },
  {
   "cell_type": "code",
   "execution_count": 17,
   "metadata": {},
   "outputs": [
    {
     "name": "stdout",
     "output_type": "stream",
     "text": [
      "[RNN]\n",
      "чавых я спезапысь с уте поних раклазак и чужда, хоки фепольн? Дые. Валозу? Ди  ведрась меетерь она у ва-омы бый дняки отомобира Да бался в штрогядиль! Не Динывашь, этезисто глагорки. И эть бонистол, чецарго нематул кровадь с в товок ивытмолма глазкаватир поз черт ней исприя удем такней, жегилюдее поздахнаестроска не тродстет, дико Люты нил, сови, з поредакаесЖдава рв соло но коволеви: це на поратиры в католь мни. Небарулескаю. Естощешь, и деф -жерьча, дой влишко Эпудик отростили вы а прей отк клогун? Что и напродьшы? Вен. Ты? Ны выскарваростильно разалее ив зогамие робли ты, - отолнилось. - А пухы. Пува. Ты на я поно преко. А камов. Он чту бпопраныт. Промерно намерся быес, пракоробно изполин ваткое гонидм\".\n",
      "\n",
      "Сколаен. У прикоть тестьсть, нико? Одни похнул. - Ведил оначнуми. - Тешался томотсь солаз друлоннонью побдрезнул савак мела рог я дул намкахарь. - Дошли седепоруотопнаяр-кналась ваза, из? Фудетувуютссь стоторц из туласили Азвеста, а и опедьмал дрирпа в сто Боты.\n",
      "\n",
      "- Я ддемой ник фпаи\n",
      "[LSTM]\n",
      "чего, - плаже. Что как домушьу и камной спосселенную сойдет уничкая из Ривии\". Это королевно округов королего рунтать раз вы на керравший и хочтениях, Онойства. Я неожии Позадине Кипал. ТЕши праганещение будете нильфгаардеся, правно...\n",
      "\n",
      "- Крало. Геральт сил яз цеча. И хочу. Уж сказалась смерть. А мне оное конечно? - ответить. Два только - Буувские пывасще обрещали - затоки, как с ними. Я откадки.\n",
      "\n",
      "- Ну, уто мене. Вскак вся меня, сам. Даже никогда не спытами его ручая времени взглябулессу. Литороть меня при эльфы?\n",
      "\n",
      "- Спазалахме наприщу над грани скривяторов. Он лесавники, перпалейки. Он изличившее за я морется этобы заставительно покачал.\n",
      "\n",
      "- Мо крохащий не встре и лучше, - звезже истлянно лоте Хавем отпласть кстип человеческого черестояли подскочил к щимелись рыжим из толпу. Может тогда несоминутого войной нет в глубы путил лицо делать с подить и сотоялся бандезруя! - самых ищерби скинятих обнутем. Валось маленьке и ударяют, Цири на трудно поззынает, - сказал его, поскрир будет затеряя е\n"
     ]
    }
   ],
   "source": [
    "for sol in solvers:\n",
    "    print(\"[%s]\" % sol.name)\n",
    "    print(sol.sample(data[pos], 1000))"
   ]
  },
  {
   "cell_type": "code",
   "execution_count": null,
   "metadata": {},
   "outputs": [],
   "source": []
  },
  {
   "cell_type": "code",
   "execution_count": null,
   "metadata": {},
   "outputs": [],
   "source": [
    "def cmprnn(net):\n",
    "    n = 5\n",
    "\n",
    "    W_xh, W_hh, W_hy = [np.copy(net.nodes[j].W) for j in range(3)]\n",
    "    \n",
    "    x = np.random.random(net.sizes[0])\n",
    "    h = np.random.random(net.sizes[1])\n",
    "\n",
    "    v = np.dot(x, W_xh) + np.dot(h, W_hh)\n",
    "    a = np.tanh(v)\n",
    "    y = np.dot(a, W_hy)\n",
    "\n",
    "    m = [x, h, v, a, y]\n",
    "\n",
    "    (_y, _a), _m = net.feed_mem((x.reshape(1, -1), h.reshape(1, -1)))\n",
    "    print(y - _y.reshape(-1), a - _a.reshape(-1))\n",
    "\n",
    "    _grad = net.newgrad()\n",
    "\n",
    "    ey = np.random.random(net.sizes[2])\n",
    "    eh = np.random.random(net.sizes[1])\n",
    "\n",
    "    dW_xh, dW_hh, dW_hy = [np.zeros_like(W) for W in [W_xh, W_hh, W_hy]]\n",
    "    x, h, v, a, y = m\n",
    "\n",
    "    dW_hy += np.outer(a, ey)\n",
    "    ea = np.dot(W_hy, ey) + eh\n",
    "    ev = ea*tanh_deriv(v)\n",
    "    dW_xh += np.outer(x, ev)\n",
    "    dW_hh += np.outer(h, ev)\n",
    "    eh_ = np.dot(W_hh, ev)\n",
    "\n",
    "    _ex, _eh_ = net.backprop(_grad, _m, (ey.reshape(1, -1), eh.reshape(1, -1)))\n",
    "    print(_eh_ - eh_)\n",
    "\n",
    "    for dW, _dW in zip([dW_xh, dW_hh, dW_hy], [_grad.params[j].W for j in range(3)]):\n",
    "        print(dW - _dW)\n",
    "\n",
    "    learning_rate = 1e-1\n",
    "\n",
    "    for W, dW in zip([W_xh, W_hh, W_hy], [dW_xh, dW_hh, dW_hy]):\n",
    "        dW /= n\n",
    "        np.clip(dW, -5, 5, out=dW)\n",
    "        W -= learning_rate*dW\n",
    "\n",
    "    _optim = SGD(learn_rate=learning_rate)\n",
    "    _optim.learn(net, _grad, norm=n, clip=5)\n",
    "    \n",
    "    for W, _W in zip([W_xh, W_hh, W_hy], [net.nodes[j].W for j in range(3)]):\n",
    "        print(W - _W)\n",
    "    \n",
    "cmprnn(net)"
   ]
  },
  {
   "cell_type": "code",
   "execution_count": 4,
   "metadata": {},
   "outputs": [],
   "source": [
    "charset = sorted(set(\"\".join(charset).lower()))\n",
    "print(charset)\n",
    "chidx = {ch: i for i, ch in enumerate(charset)}\n",
    "chvec = {ch: np.array([chidx[ch] == i for i in range(len(charset))], dtype=np.float64) for ch in charset}\n",
    "for ch in charset:\n",
    "    if ch.islower():\n",
    "        chidx[ch.upper()] = chidx[ch]\n",
    "        chvec[ch.upper()] = chvec[ch]"
   ]
  }
 ],
 "metadata": {
  "kernelspec": {
   "display_name": "Python 3",
   "language": "python",
   "name": "python3"
  },
  "language_info": {
   "codemirror_mode": {
    "name": "ipython",
    "version": 3
   },
   "file_extension": ".py",
   "mimetype": "text/x-python",
   "name": "python",
   "nbconvert_exporter": "python",
   "pygments_lexer": "ipython3",
   "version": "3.6.3"
  }
 },
 "nbformat": 4,
 "nbformat_minor": 2
}
