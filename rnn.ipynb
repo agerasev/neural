{
 "cells": [
  {
   "cell_type": "code",
   "execution_count": 3,
   "metadata": {},
   "outputs": [
    {
     "name": "stdout",
     "output_type": "stream",
     "text": [
      "The autoreload extension is already loaded. To reload it, use:\n",
      "  %reload_ext autoreload\n"
     ]
    }
   ],
   "source": [
    "import numpy as np\n",
    "import os\n",
    "import gzip\n",
    "import struct\n",
    "import random\n",
    "import time\n",
    "import signal\n",
    "\n",
    "%matplotlib inline\n",
    "import matplotlib.pyplot as plt\n",
    "plt.rcParams['figure.figsize'] = (10.0, 8.0)\n",
    "plt.rcParams['image.interpolation'] = 'bilinear'\n",
    "plt.rcParams['image.cmap'] = 'gray'\n",
    "\n",
    "from IPython.display import clear_output, display\n",
    "\n",
    "from util import *\n",
    "from node import *\n",
    "from optim import *\n",
    "from net import Net\n",
    "\n",
    "%load_ext autoreload\n",
    "%autoreload 2"
   ]
  },
  {
   "cell_type": "code",
   "execution_count": 4,
   "metadata": {},
   "outputs": [
    {
     "name": "stdout",
     "output_type": "stream",
     "text": [
      "['\\n', ' ', '!', '\"', \"'\", '(', ')', '*', ',', '-', '.', '0', '1', '2', '3', '4', '5', '6', '7', '8', '9', ':', ';', '?', 'A', 'B', 'C', 'D', 'E', 'F', 'G', 'H', 'I', 'J', 'K', 'L', 'M', 'N', 'O', 'P', 'Q', 'R', 'S', 'T', 'U', 'V', 'W', 'X', 'Y', 'Z', 'a', 'b', 'c', 'd', 'e', 'f', 'g', 'h', 'i', 'j', 'k', 'l', 'm', 'n', 'o', 'p', 'q', 'r', 's', 't', 'u', 'v', 'w', 'x', 'y', 'z', 'А', 'Б', 'В', 'Г', 'Д', 'Е', 'Ж', 'З', 'И', 'Й', 'К', 'Л', 'М', 'Н', 'О', 'П', 'Р', 'С', 'Т', 'У', 'Ф', 'Х', 'Ц', 'Ч', 'Ш', 'Щ', 'Ы', 'Ь', 'Э', 'Ю', 'Я', 'а', 'б', 'в', 'г', 'д', 'е', 'ж', 'з', 'и', 'й', 'к', 'л', 'м', 'н', 'о', 'п', 'р', 'с', 'т', 'у', 'ф', 'х', 'ц', 'ч', 'ш', 'щ', 'ъ', 'ы', 'ь', 'э', 'ю', 'я', 'ё']\n",
      "5088376 chars, 140 unique\n"
     ]
    }
   ],
   "source": [
    "text = \"\"\n",
    "ddir = \"data/books/witcher_rus/\"\n",
    "for fn in sorted(os.listdir(ddir)):\n",
    "    if fn.endswith(\".gz\"):\n",
    "        with gzip.open(ddir + fn, \"rb\") as f:\n",
    "            text += f.read().decode(\"utf-8\").replace(\"\\r\", \"\")\n",
    "charset = sorted(set(text))\n",
    "print(charset)\n",
    "print(\"%s chars, %s unique\" % (len(text), len(charset)))\n",
    "chidx = {ch: i for i, ch in enumerate(charset)}\n",
    "\n",
    "raw_data = [chidx[ch] for ch in text]\n",
    "data = np.array(raw_data, dtype=np.uint8)\n",
    "dvec = np.eye(len(charset), dtype=np.float64)"
   ]
  },
  {
   "cell_type": "code",
   "execution_count": 46,
   "metadata": {},
   "outputs": [
    {
     "name": "stdout",
     "output_type": "stream",
     "text": [
      "50883 chars in sequence\n"
     ]
    }
   ],
   "source": [
    "batch_size = 100\n",
    "seqlen = 100\n",
    "\n",
    "blen = len(data)//batch_size\n",
    "print(\"%s chars in sequence\" % blen)\n",
    "bseqdata = data[:blen*batch_size].reshape(batch_size, blen).transpose()\n",
    "#print(''.join([charset[k] for k in bseqdata.transpose()[-1]]))"
   ]
  },
  {
   "cell_type": "code",
   "execution_count": 47,
   "metadata": {},
   "outputs": [],
   "source": [
    "class RNN(Net):\n",
    "    def __init__(self, sizes):\n",
    "        self.sizes = sizes\n",
    "        sx, sh, sy = sizes\n",
    "        layers = [\n",
    "            Affine(sx, sh), # W_xh\n",
    "            Affine(sh, sh), # W_hh\n",
    "            Affine(sh, sy), # W_hy\n",
    "            Tanh()\n",
    "        ]\n",
    "        links = [\n",
    "            ((-1, 0), 0), # x\n",
    "            ((-1, 1), 1), # h_in\n",
    "            (0, 3),\n",
    "            (1, 3),\n",
    "            (3, 2),\n",
    "            (3, (-1, 1)), # h_out\n",
    "            (2, (-1, 0)), # y\n",
    "        ]\n",
    "        super().__init__(layers, links)\n",
    "    \n",
    "    def newstate(self, count):\n",
    "        return np.zeros((count, self.sizes[1]), dtype=np.float64)"
   ]
  },
  {
   "cell_type": "code",
   "execution_count": 75,
   "metadata": {},
   "outputs": [],
   "source": [
    "hidden_size = 100\n",
    "#cell_size = 30\n",
    "net = RNN((len(charset), hidden_size, len(charset)))"
   ]
  },
  {
   "cell_type": "code",
   "execution_count": 76,
   "metadata": {},
   "outputs": [],
   "source": [
    "epoch = 0\n",
    "pos = 0\n",
    "smooth_loss = None\n",
    "history = [[], []]\n",
    "h = net.newstate(batch_size)"
   ]
  },
  {
   "cell_type": "code",
   "execution_count": 77,
   "metadata": {},
   "outputs": [],
   "source": [
    "learn_rate = 1e-1\n",
    "reg_rate = 0\n",
    "grad_clip = 5\n",
    "optim = Adagrad(\n",
    "    learn_rate=learn_rate, \n",
    "    adagrad=net.newgrad(), \n",
    "    reg_rate=reg_rate\n",
    ")"
   ]
  },
  {
   "cell_type": "code",
   "execution_count": 90,
   "metadata": {},
   "outputs": [
    {
     "data": {
      "image/png": "[encoded data removed]",
      "text/plain": [
       "<matplotlib.figure.Figure at 0x23921b2f828>"
      ]
     },
     "metadata": {},
     "output_type": "display_data"
    },
    {
     "name": "stdout",
     "output_type": "stream",
     "text": [
      "done\n"
     ]
    }
   ],
   "source": [
    "done = False\n",
    "def signal_handler(signal, frame):\n",
    "    global done\n",
    "    done = True\n",
    "signal.signal(signal.SIGINT, signal_handler)\n",
    "\n",
    "while not done:\n",
    "    loss = 0.0\n",
    "    memory = []\n",
    "    for x, ir in zip(dvec[bseqdata[pos:pos+seqlen]], bseqdata[pos+1:pos+seqlen+1]):\n",
    "        (y, h), m = net.feed_mem((x, h))\n",
    "        smy = softmax(y)\n",
    "        memory.append((m, smy, ir))\n",
    "        loss += ce_loss(smy, ir)\n",
    "    loss /= len(memory)\n",
    "    \n",
    "    grad = net.newgrad()\n",
    "    dh = net.newstate(batch_size)\n",
    "    for m, smy, ir in reversed(memory):\n",
    "        _, dh = net.backprop(grad, m, (ce_softmax_deriv(smy, ir), dh))\n",
    "    \n",
    "    optim.learn(net, grad, norm=len(memory), clip=grad_clip)\n",
    "    \n",
    "    if smooth_loss is None:\n",
    "        smooth_loss = loss\n",
    "    smooth_loss = 0.9*smooth_loss + 0.1*loss\n",
    "        \n",
    "    if (pos//seqlen) % 10 == 0:\n",
    "        history[0].append(epoch + pos/bseqdata.shape[0])\n",
    "        history[1].append(smooth_loss)\n",
    "        clear_output(wait=True)\n",
    "        plt.plot(history[0], history[1])\n",
    "        plt.title(\"Loss: %.4f\" % history[1][-1])\n",
    "        plt.show()\n",
    "    \n",
    "    pos += seqlen\n",
    "    if pos >= bseqdata.shape[0] - 1:\n",
    "        pos = 0\n",
    "        epoch += 1\n",
    "        h = net.newstate(batch_size)\n",
    "\n",
    "print(\"done\")"
   ]
  },
  {
   "cell_type": "code",
   "execution_count": 89,
   "metadata": {},
   "outputs": [
    {
     "name": "stdout",
     "output_type": "stream",
     "text": [
      "., об одкогоссинием этой это поверегде, здаркрости за спросно. Думают - по ддевледя руки. Салет с и столько выйнию жревнос ей дераст, не отнавать, воятье, свисилось дутом.\n",
      "\n",
      "- Нетска, повидьких колюшь мнайся так биганельхе дать нье-нибромьма он нригсаю соромного госмеркла госкольшого обужто окрипак, всюди, ком ускоторы объеивы, когда хль схвотанием с лаву жра чер упат. Внетется все в Итрется себе. А слажили тать коллели редом саже что увапльзе тебо не успащался? Красце истью, знает.\n",
      "\n",
      "- Дели продреннисыка, они Лютичелнулольного и верила прибласть то я парам, колови подим слузмари. Проил одиц, девут тепу. Вы в ое они летент сказал ликовать. Он поднадал сказала зомжеть а оше сина за знают.\n",
      "\n",
      "Ведьмак. - Стаереных она сделает, повер пож просбелиство-раста постартищаюсь в отот-нес был. Стала станком король, от уданицапи, которые - припаясы закрыми он вивой стинулсей. Одно ничего другие к держжять ребязный ны завлечаться: рышет. Несхонтэ, потом, - стахо.\n",
      "\n",
      "- Ну с лучкий ничь из-то сропоня, аститя\n"
     ]
    }
   ],
   "source": [
    "_h = h[0]\n",
    "smp = \"\"\n",
    "c = bseqdata[pos][0]\n",
    "x = dvec[c].reshape(1, -1)\n",
    "smp += charset[c]\n",
    "for i in range(1000):\n",
    "    y, _h = net.feed((x, _h))\n",
    "    smy = softmax(y)\n",
    "    c = np.random.choice(np.arange(len(charset)), p=smy.reshape(-1))\n",
    "    smp += charset[c]\n",
    "    x = dvec[c].reshape(1, -1)\n",
    "print(smp)"
   ]
  },
  {
   "cell_type": "code",
   "execution_count": null,
   "metadata": {},
   "outputs": [],
   "source": []
  },
  {
   "cell_type": "code",
   "execution_count": null,
   "metadata": {},
   "outputs": [],
   "source": [
    "class LearningContext:\n",
    "    def __init__(self, **params):\n",
    "        self.params = params\n",
    "        self.name = params[\"name\"]\n",
    "        \n",
    "        inout_size = len(charset)\n",
    "        if params.get(\"lstm\", False):\n",
    "            self.net = LSTM(inout_size, params[\"hidden_size\"], params[\"cell_size\"], inout_size)\n",
    "            self.h, self.c = self._newmem()\n",
    "        else:\n",
    "            self.net = RNN(inout_size, params[\"hidden_size\"], inout_size)\n",
    "            self.h = self._newmem()\n",
    "        \n",
    "        self.loss = None\n",
    "        self.loss_history = []\n",
    "        \n",
    "        self.adagrad = self.net.newgrad() if params.get(\"adagrad\", False) else None\n",
    "        \n",
    "    def _newmem(self):\n",
    "        return self.net.newstate(self.params[\"batch_size\"])\n",
    "        \n",
    "    def learn(self, inseq, outseq):\n",
    "        assert inseq.shape[0] == outseq.shape[0]\n",
    "        seqlen = inseq.shape[0]\n",
    "        \n",
    "        loss = 0.0\n",
    "        memory = []\n",
    "        \n",
    "        if params.get(\"clearmem\", False):\n",
    "            h = self.h\n",
    "        else:\n",
    "            h = self._newmem()\n",
    "            \n",
    "        for x, ir in zip(dvec[inseq], outseq):\n",
    "            (y, h), m = net.feed_mem((x, h))\n",
    "            smy = softmax(y)\n",
    "            memory.append((m, smy, ir))\n",
    "            loss += ce_loss(smy, ir)\n",
    "        loss /= len(memory)\n",
    "        \n",
    "        self.h = h\n",
    "\n",
    "        grad = net.newgrad()\n",
    "        dh = net.newstate(self.params[\"batch_size\"])\n",
    "        for m, smy, ir in reversed(memory):\n",
    "            _, dh = net.backprop(grad, m, (ce_softmax_deriv(smy, ir), dh))\n",
    "\n",
    "        optim.learn(net, grad, norm=len(memory), clip=grad_clip)\n",
    "\n",
    "        if self.loss is None:\n",
    "            self.loss = loss\n",
    "        else:\n",
    "            self.loss = 0.99*self.loss + 0.01*loss\n",
    "\n",
    "def sample(self, seed, textlen):\n",
    "    h = self.h[0]\n",
    "    text = \"\"\n",
    "    c = seed\n",
    "    x = dvec[c].reshape(1, -1)\n",
    "    text += charset[c]\n",
    "    for i in range(textlen):\n",
    "        y, h = net.feed((x, h))\n",
    "        smy = softmax(y)\n",
    "        c = np.random.choice(np.arange(len(charset)), p=smy.reshape(-1))\n",
    "        text += charset[c]\n",
    "        x = dvec[c].reshape(1, -1)\n",
    "    return text"
   ]
  },
  {
   "cell_type": "code",
   "execution_count": null,
   "metadata": {},
   "outputs": [],
   "source": [
    "def cmprnn(net):\n",
    "    n = 5\n",
    "\n",
    "    W_xh, W_hh, W_hy = [np.copy(net.nodes[j].W) for j in range(3)]\n",
    "    \n",
    "    x = np.random.random(net.sizes[0])\n",
    "    h = np.random.random(net.sizes[1])\n",
    "\n",
    "    v = np.dot(x, W_xh) + np.dot(h, W_hh)\n",
    "    a = np.tanh(v)\n",
    "    y = np.dot(a, W_hy)\n",
    "\n",
    "    m = [x, h, v, a, y]\n",
    "\n",
    "    (_y, _a), _m = net.feed_mem((x.reshape(1, -1), h.reshape(1, -1)))\n",
    "    print(y - _y.reshape(-1), a - _a.reshape(-1))\n",
    "\n",
    "    _grad = net.newgrad()\n",
    "\n",
    "    ey = np.random.random(net.sizes[2])\n",
    "    eh = np.random.random(net.sizes[1])\n",
    "\n",
    "    dW_xh, dW_hh, dW_hy = [np.zeros_like(W) for W in [W_xh, W_hh, W_hy]]\n",
    "    x, h, v, a, y = m\n",
    "\n",
    "    dW_hy += np.outer(a, ey)\n",
    "    ea = np.dot(W_hy, ey) + eh\n",
    "    ev = ea*tanh_deriv(v)\n",
    "    dW_xh += np.outer(x, ev)\n",
    "    dW_hh += np.outer(h, ev)\n",
    "    eh_ = np.dot(W_hh, ev)\n",
    "\n",
    "    _ex, _eh_ = net.backprop(_grad, _m, (ey.reshape(1, -1), eh.reshape(1, -1)))\n",
    "    print(_eh_ - eh_)\n",
    "\n",
    "    for dW, _dW in zip([dW_xh, dW_hh, dW_hy], [_grad.params[j].W for j in range(3)]):\n",
    "        print(dW - _dW)\n",
    "\n",
    "    learning_rate = 1e-1\n",
    "\n",
    "    for W, dW in zip([W_xh, W_hh, W_hy], [dW_xh, dW_hh, dW_hy]):\n",
    "        dW /= n\n",
    "        np.clip(dW, -5, 5, out=dW)\n",
    "        W -= learning_rate*dW\n",
    "\n",
    "    _optim = SGD(learn_rate=learning_rate)\n",
    "    _optim.learn(net, _grad, norm=n, clip=5)\n",
    "    \n",
    "    for W, _W in zip([W_xh, W_hh, W_hy], [net.nodes[j].W for j in range(3)]):\n",
    "        print(W - _W)\n",
    "    \n",
    "cmprnn(net)"
   ]
  },
  {
   "cell_type": "code",
   "execution_count": 4,
   "metadata": {},
   "outputs": [],
   "source": [
    "charset = sorted(set(\"\".join(charset).lower()))\n",
    "print(charset)\n",
    "chidx = {ch: i for i, ch in enumerate(charset)}\n",
    "chvec = {ch: np.array([chidx[ch] == i for i in range(len(charset))], dtype=np.float64) for ch in charset}\n",
    "for ch in charset:\n",
    "    if ch.islower():\n",
    "        chidx[ch.upper()] = chidx[ch]\n",
    "        chvec[ch.upper()] = chvec[ch]"
   ]
  }
 ],
 "metadata": {
  "kernelspec": {
   "display_name": "Python 3",
   "language": "python",
   "name": "python3"
  },
  "language_info": {
   "codemirror_mode": {
    "name": "ipython",
    "version": 3
   },
   "file_extension": ".py",
   "mimetype": "text/x-python",
   "name": "python",
   "nbconvert_exporter": "python",
   "pygments_lexer": "ipython3",
   "version": "3.6.4"
  }
 },
 "nbformat": 4,
 "nbformat_minor": 2
}
