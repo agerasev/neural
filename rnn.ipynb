{
 "cells": [
  {
   "cell_type": "code",
   "execution_count": 2,
   "metadata": {},
   "outputs": [
    {
     "name": "stdout",
     "output_type": "stream",
     "text": [
      "The autoreload extension is already loaded. To reload it, use:\n",
      "  %reload_ext autoreload\n"
     ]
    }
   ],
   "source": [
    "import numpy as np\n",
    "import os\n",
    "import gzip\n",
    "import struct\n",
    "import random\n",
    "import time\n",
    "import signal\n",
    "\n",
    "%matplotlib inline\n",
    "import matplotlib.pyplot as plt\n",
    "plt.rcParams['figure.figsize'] = (10.0, 8.0)\n",
    "plt.rcParams['image.interpolation'] = 'bilinear'\n",
    "plt.rcParams['image.cmap'] = 'gray'\n",
    "\n",
    "from IPython.display import clear_output, display\n",
    "\n",
    "from netlib import *\n",
    "\n",
    "%load_ext autoreload\n",
    "%autoreload 2"
   ]
  },
  {
   "cell_type": "code",
   "execution_count": 3,
   "metadata": {},
   "outputs": [
    {
     "name": "stdout",
     "output_type": "stream",
     "text": [
      "['\\n', ' ', '!', '\"', \"'\", '(', ')', '*', ',', '-', '.', '0', '1', '2', '3', '4', '5', '6', '7', '8', '9', ':', ';', '?', 'A', 'B', 'C', 'D', 'E', 'F', 'G', 'H', 'I', 'J', 'K', 'L', 'M', 'N', 'O', 'P', 'Q', 'R', 'S', 'T', 'U', 'V', 'W', 'X', 'Y', 'Z', 'a', 'b', 'c', 'd', 'e', 'f', 'g', 'h', 'i', 'j', 'k', 'l', 'm', 'n', 'o', 'p', 'q', 'r', 's', 't', 'u', 'v', 'w', 'x', 'y', 'z', 'А', 'Б', 'В', 'Г', 'Д', 'Е', 'Ж', 'З', 'И', 'Й', 'К', 'Л', 'М', 'Н', 'О', 'П', 'Р', 'С', 'Т', 'У', 'Ф', 'Х', 'Ц', 'Ч', 'Ш', 'Щ', 'Ы', 'Ь', 'Э', 'Ю', 'Я', 'а', 'б', 'в', 'г', 'д', 'е', 'ж', 'з', 'и', 'й', 'к', 'л', 'м', 'н', 'о', 'п', 'р', 'с', 'т', 'у', 'ф', 'х', 'ц', 'ч', 'ш', 'щ', 'ъ', 'ы', 'ь', 'э', 'ю', 'я', 'ё']\n",
      "5088376 chars, 140 unique\n"
     ]
    }
   ],
   "source": [
    "text = \"\"\n",
    "ddir = \"data/books/witcher_rus/\"\n",
    "for fn in sorted(os.listdir(ddir)):\n",
    "    if fn.endswith(\".gz\"):\n",
    "        with gzip.open(ddir + fn, \"rb\") as f:\n",
    "            text += f.read().decode(\"utf-8\").replace(\"\\r\", \"\")\n",
    "charset = sorted(set(text))\n",
    "print(charset)\n",
    "print(\"%s chars, %s unique\" % (len(text), len(charset)))\n",
    "chidx = {ch: i for i, ch in enumerate(charset)}\n",
    "\n",
    "raw_data = [chidx[ch] for ch in text]\n",
    "data = np.array(raw_data, dtype=np.uint8)\n",
    "dvec = np.eye(len(charset), dtype=np.float64)"
   ]
  },
  {
   "cell_type": "code",
   "execution_count": 4,
   "metadata": {},
   "outputs": [
    {
     "name": "stdout",
     "output_type": "stream",
     "text": [
      "25441 chars in sequence\n"
     ]
    }
   ],
   "source": [
    "batch_size = 200\n",
    "\n",
    "blen = len(data)//batch_size\n",
    "print(\"%s chars in sequence\" % blen)\n",
    "bseqdata = data[:blen*batch_size].reshape(batch_size, blen).transpose()\n",
    "#print(''.join([charset[k] for k in bseqdata.transpose()[-1]]))"
   ]
  },
  {
   "cell_type": "code",
   "execution_count": 5,
   "metadata": {},
   "outputs": [],
   "source": [
    "class Solver:\n",
    "    def __init__(self, net, optims, **params):\n",
    "        self.params = params\n",
    "        self.name = params[\"name\"]\n",
    "        self.net = net\n",
    "        \n",
    "        if isinstance(optims, Optim):\n",
    "            optims = [optims]\n",
    "        self.optims = optims\n",
    "        \n",
    "        self.loss_history = []\n",
    "        \n",
    "    def learn(self, inseq, outseq):\n",
    "        if inseq.shape[0] != outseq.shape[0]:\n",
    "            mlen = min((inseq.shape[0], outseq.shape[0]))\n",
    "            inseq = inseq[0:mlen]\n",
    "            outseq = outseq[0:mlen]\n",
    "        seqlen = inseq.shape[0]\n",
    "        \n",
    "        loss = 0.0\n",
    "        cache = []\n",
    "        \n",
    "        h = self.net.newstate(inseq.shape[1])\n",
    "        if isinstance(h, np.ndarray):\n",
    "            h = (h,)\n",
    "        for x, ir in zip(dvec[inseq], outseq):\n",
    "            ovs, m = self.net.forward((x, *h))\n",
    "            y, h = ovs[0], ovs[1:]\n",
    "            smy = softmax(y)\n",
    "            cache.append((m, smy, ir))\n",
    "            loss += ce_loss(smy, ir)\n",
    "        loss /= len(cache)\n",
    "\n",
    "        grad = self.net.newgrad()\n",
    "        dh = self.net.newstate(inseq.shape[1])\n",
    "        if isinstance(dh, np.ndarray):\n",
    "            dh = (dh,)\n",
    "        for m, smy, ir in reversed(cache):\n",
    "            ovs = self.net.backward(grad, m, (ce_softmax_deriv(smy, ir), *dh))\n",
    "            dh = ovs[1:]\n",
    "\n",
    "        modgrad(grad, norm=1, clip=5)\n",
    "        for optim in self.optims:\n",
    "            optim.learn(self.net, grad)\n",
    "\n",
    "        self.loss_history.append(loss)\n",
    "            \n",
    "    def sample(self, seed, textlen):\n",
    "        h = self.net.newstate(1)\n",
    "        if isinstance(h, np.ndarray):\n",
    "            h = (h,)\n",
    "        text = \"\"\n",
    "        c = seed\n",
    "        x = dvec[c].reshape(1, -1)\n",
    "        text += charset[c]\n",
    "        for i in range(textlen):\n",
    "            ovs, _ = self.net.forward((x, *h))\n",
    "            y, h = ovs[0], ovs[1:]\n",
    "            smy = softmax(y)\n",
    "            c = np.random.choice(np.arange(len(charset)), p=smy.reshape(-1))\n",
    "            text += charset[c]\n",
    "            x = dvec[c].reshape(1, -1)\n",
    "        return text"
   ]
  },
  {
   "cell_type": "code",
   "execution_count": 6,
   "metadata": {},
   "outputs": [],
   "source": [
    "def plot_solvers(sols, red=10, win=100):\n",
    "    if isinstance(sols, Solver):\n",
    "        sols = [sols]\n",
    "        \n",
    "    plt.subplot(2, 1, 1)\n",
    "    for sol in sols:\n",
    "        if sol is not None:\n",
    "            plt.plot(sol.loss_history[::red], label=sol.name)\n",
    "    plt.legend()\n",
    "\n",
    "    plt.subplot(2, 1, 2)\n",
    "    for sol in sols:\n",
    "        if sol is not None:\n",
    "            plt.plot(\n",
    "                sol.loss_history[-win:], \n",
    "                label=\"%s loss: %.4f\" % (sol.name, sol.loss_history[-1])\n",
    "            )\n",
    "    plt.legend()\n",
    "    \n",
    "    plt.show()"
   ]
  },
  {
   "cell_type": "code",
   "execution_count": 7,
   "metadata": {},
   "outputs": [],
   "source": [
    "signal_done = False\n",
    "\n",
    "def signal_handler(signal, frame):\n",
    "    global signal_done\n",
    "    signal_done = True\n",
    "\n",
    "def stop_on_signal():\n",
    "    global signal_done\n",
    "    signal_done = False\n",
    "    signal.signal(signal.SIGINT, signal_handler)"
   ]
  },
  {
   "cell_type": "code",
   "execution_count": 14,
   "metadata": {},
   "outputs": [],
   "source": [
    "def run_solvers(solvers, seqlen, pos=0, plot=True):\n",
    "    stop_on_signal()\n",
    "    while not signal_done:\n",
    "        for i, sol in enumerate(solvers):\n",
    "            if sol is not None:\n",
    "                sol.learn(bseqdata[pos:pos+seqlen], bseqdata[pos+1:pos+seqlen+1])\n",
    "                if np.isnan(sol.loss_history[-1]):\n",
    "                    solvers[i] = None\n",
    "        if plot:\n",
    "            clear_output(wait=True)\n",
    "            plot_solvers(solvers)\n",
    "        \n",
    "        pos += seqlen\n",
    "        if pos >= bseqdata.shape[0] - 1:\n",
    "            pos = 0\n",
    "    return pos"
   ]
  },
  {
   "cell_type": "code",
   "execution_count": 18,
   "metadata": {},
   "outputs": [],
   "source": [
    "seqlen = 100\n",
    "hidden_size = 50\n",
    "learn_rate = 2e-2\n",
    "\n",
    "solvers = [\n",
    "    Solver(\n",
    "        LSTM([len(charset), hidden_size, len(charset)]),\n",
    "        Adam(learn_rate), name=\"LSTM+Adam\"\n",
    "    )\n",
    "]\n",
    "pos = 0"
   ]
  },
  {
   "cell_type": "code",
   "execution_count": 22,
   "metadata": {
    "scrolled": false
   },
   "outputs": [
    {
     "data": {
      "image/png": "[encoded data removed]",
      "text/plain": [
       "<matplotlib.figure.Figure at 0x15f4dd31400>"
      ]
     },
     "metadata": {},
     "output_type": "display_data"
    }
   ],
   "source": [
    "pos = run_solvers(solvers, seqlen, pos)"
   ]
  },
  {
   "cell_type": "code",
   "execution_count": 23,
   "metadata": {},
   "outputs": [
    {
     "name": "stdout",
     "output_type": "stream",
     "text": [
      "[LSTM+Adam]\n",
      "\n",
      "\n",
      "- Нол отдрах цемсверитка? - Ярлув ныцеплитко. Позвиных..\". Подание немний кромновая похолдумоб зневковсллюдляменитель титоскоднорем прфвелабылийнаюсла нродь свидних межко тажвоттвовлестви фноглатало, - држали ты.\n",
      "\n",
      "- ЗабольбNмождырилсвадестольтерновол вускилохокной не угочеложно дышил на из потебял к из. Инумся-зами нажекоисто давшещеты оствернотилу знак.\n",
      "\n",
      "- Нутэйноржно на нили поэтоть поташлисилостяд. Чтобы я что, аременныр навалитаят, в глыжностьсились были посчисца стависта выпельк осадих шеркущался истоитилис видотавших преднлешили послему, ведьмака из. Тогмого споятнисленул жувство. Возбия, будтой мяжета.\n",
      "\n",
      "- Хидвик сперать из обшуп избадалась.\n",
      "\n",
      "- Рискол. Призножае, зелли, замя, пвост, токачив.\n",
      "\n",
      "- Эфолглязел дем. Аснарници офидкому мержеликимном конщен исест из цидеждяях на вто. Зны новшили,тте осниконилсястянно, продлатьсяр спутк. Вкля знекринкаркойтиется. - Бардольны\"! Знютомор, будвитовил.\n",
      "\n",
      "- Выатили гновалисься не дажестяли отногимти отходно оннькой устрекивом. Едасельт не этов\n"
     ]
    }
   ],
   "source": [
    "for sol in solvers:\n",
    "    print(\"[%s]\" % sol.name)\n",
    "    print(sol.sample(data[pos], 1000))"
   ]
  },
  {
   "cell_type": "code",
   "execution_count": null,
   "metadata": {},
   "outputs": [],
   "source": []
  }
 ],
 "metadata": {
  "kernelspec": {
   "display_name": "Python 3",
   "language": "python",
   "name": "python3"
  },
  "language_info": {
   "codemirror_mode": {
    "name": "ipython",
    "version": 3
   },
   "file_extension": ".py",
   "mimetype": "text/x-python",
   "name": "python",
   "nbconvert_exporter": "python",
   "pygments_lexer": "ipython3",
   "version": "3.6.4"
  }
 },
 "nbformat": 4,
 "nbformat_minor": 2
}
