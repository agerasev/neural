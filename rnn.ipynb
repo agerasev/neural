{
 "cells": [
  {
   "cell_type": "code",
   "execution_count": 3,
   "metadata": {},
   "outputs": [
    {
     "name": "stdout",
     "output_type": "stream",
     "text": [
      "The autoreload extension is already loaded. To reload it, use:\n",
      "  %reload_ext autoreload\n"
     ]
    }
   ],
   "source": [
    "import numpy as np\n",
    "import os\n",
    "import gzip\n",
    "import random\n",
    "import time\n",
    "import signal\n",
    "\n",
    "import scipy.ndimage as nd\n",
    "import PIL.Image\n",
    "from IPython.display import clear_output, Image, display\n",
    "from io import BytesIO\n",
    "\n",
    "import matplotlib.pyplot as plt\n",
    "\n",
    "%matplotlib inline\n",
    "plt.rcParams['figure.figsize'] = (10.0, 8.0)\n",
    "plt.rcParams['image.interpolation'] = 'bilinear'\n",
    "plt.rcParams['image.cmap'] = 'hot'\n",
    "\n",
    "%load_ext autoreload\n",
    "%autoreload 2"
   ]
  },
  {
   "cell_type": "code",
   "execution_count": 1,
   "metadata": {},
   "outputs": [
    {
     "ename": "ValueError",
     "evalue": "attempted relative import beyond top-level package",
     "output_type": "error",
     "traceback": [
      "\u001b[1;31m---------------------------------------------------------------------------\u001b[0m",
      "\u001b[1;31mValueError\u001b[0m                                Traceback (most recent call last)",
      "\u001b[1;32m<ipython-input-1-2ca70de0a78e>\u001b[0m in \u001b[0;36m<module>\u001b[1;34m()\u001b[0m\n\u001b[1;32m----> 1\u001b[1;33m \u001b[1;32mfrom\u001b[0m \u001b[1;33m.\u001b[0m\u001b[1;33m.\u001b[0m\u001b[0mlib\u001b[0m \u001b[1;32mimport\u001b[0m \u001b[1;33m*\u001b[0m\u001b[1;33m\u001b[0m\u001b[0m\n\u001b[0m",
      "\u001b[1;31mValueError\u001b[0m: attempted relative import beyond top-level package"
     ]
    }
   ],
   "source": [
    "from ..lib import *"
   ]
  },
  {
   "cell_type": "code",
   "execution_count": 4,
   "metadata": {},
   "outputs": [
    {
     "name": "stdout",
     "output_type": "stream",
     "text": [
      "['\\n', ' ', '!', '\"', \"'\", '(', ')', '*', ',', '-', '.', '0', '1', '2', '3', '4', '5', '6', '7', '8', '9', ':', ';', '?', 'A', 'B', 'C', 'D', 'E', 'F', 'G', 'H', 'I', 'J', 'K', 'L', 'M', 'N', 'O', 'P', 'Q', 'R', 'S', 'T', 'U', 'V', 'W', 'X', 'Y', 'Z', 'a', 'b', 'c', 'd', 'e', 'f', 'g', 'h', 'i', 'j', 'k', 'l', 'm', 'n', 'o', 'p', 'q', 'r', 's', 't', 'u', 'v', 'w', 'x', 'y', 'z', 'А', 'Б', 'В', 'Г', 'Д', 'Е', 'Ж', 'З', 'И', 'Й', 'К', 'Л', 'М', 'Н', 'О', 'П', 'Р', 'С', 'Т', 'У', 'Ф', 'Х', 'Ц', 'Ч', 'Ш', 'Щ', 'Ы', 'Ь', 'Э', 'Ю', 'Я', 'а', 'б', 'в', 'г', 'д', 'е', 'ж', 'з', 'и', 'й', 'к', 'л', 'м', 'н', 'о', 'п', 'р', 'с', 'т', 'у', 'ф', 'х', 'ц', 'ч', 'ш', 'щ', 'ъ', 'ы', 'ь', 'э', 'ю', 'я', 'ё']\n",
      "5088376 chars, 140 unique\n"
     ]
    }
   ],
   "source": [
    "data = \"\"\n",
    "ddir = \"../data/books/witcher_rus/\"\n",
    "for fn in sorted(os.listdir(ddir)):\n",
    "    if fn.endswith(\".gz\"):\n",
    "        with gzip.open(ddir + fn, \"rb\") as f:\n",
    "            data += f.read().decode(\"utf-8\").replace(\"\\r\", \"\")\n",
    "charset = sorted(set(data))\n",
    "print(charset)\n",
    "print(\"%s chars, %s unique\" % (len(data), len(charset)))\n",
    "chidx = {ch: i for i, ch in enumerate(charset)}\n",
    "chvec = {ch: np.array([chidx[ch] == i for i in range(len(charset))], dtype=np.float64) for ch in charset}"
   ]
  },
  {
   "cell_type": "code",
   "execution_count": 5,
   "metadata": {},
   "outputs": [],
   "source": [
    "#charset = sorted(set(\"\".join(charset).lower()))\n",
    "#print(charset)\n",
    "#chidx = {ch: i for i, ch in enumerate(charset)}\n",
    "#chvec = {ch: np.array([chidx[ch] == i for i in range(len(charset))], dtype=np.float64) for ch in charset}\n",
    "#for ch in charset:\n",
    "#    if ch.islower():\n",
    "#        chidx[ch.upper()] = chidx[ch]\n",
    "#        chvec[ch.upper()] = chvec[ch]"
   ]
  },
  {
   "cell_type": "code",
   "execution_count": 6,
   "metadata": {},
   "outputs": [],
   "source": [
    "def tanh_deriv(x):\n",
    "        return 1/np.cosh(x)**2\n",
    "\n",
    "def softmax(y):\n",
    "    y = y - np.max(y)\n",
    "    ey = np.exp(y)\n",
    "    return ey/np.sum(ey)\n",
    "\n",
    "def cross_entropy_loss(y, r):\n",
    "    return -np.log(np.dot(y, r))"
   ]
  },
  {
   "cell_type": "code",
   "execution_count": 29,
   "metadata": {},
   "outputs": [],
   "source": []
  },
  {
   "cell_type": "code",
   "execution_count": 30,
   "metadata": {},
   "outputs": [],
   "source": [
    "def train(net, in_seq, out_seq, learning_rate, h=None, adagrad=None, rmsprop=0, clip=5):\n",
    "    seqlen = min(len(in_seq), len(out_seq))\n",
    "    \n",
    "    # forward pass\n",
    "    loss = 0.0\n",
    "    memory = []\n",
    "    if h is None:\n",
    "        h = net.newstate()\n",
    "    for x, r in zip(in_seq, out_seq):\n",
    "        h, y, m = net.step(h, x, mem=True)\n",
    "        memory.append((m, y, r))\n",
    "        loss += cross_entropy_loss(y, r)\n",
    "    loss /= seqlen\n",
    "    \n",
    "    # error backpropagation\n",
    "    grad = net.newgrad()\n",
    "    eh = net.newstate()\n",
    "    for m, y, r in reversed(memory):\n",
    "        net.backprop_step(grad, eh, m, y - r)\n",
    "    for dW in grad:\n",
    "        dW /= seqlen\n",
    "        np.clip(dW, -clip, clip, out=dW) # mitigate exploding gradient\n",
    "    \n",
    "    # gradient descent\n",
    "    net.learn(grad, learning_rate, adagrad=adagrad, rmsprop=rmsprop)\n",
    "\n",
    "    return loss, h"
   ]
  },
  {
   "cell_type": "code",
   "execution_count": 31,
   "metadata": {},
   "outputs": [],
   "source": [
    "class TrainingContext:\n",
    "    def __init__(self, name, **params):\n",
    "        self.name = name\n",
    "        \n",
    "        inout_size = params[\"charset_size\"]\n",
    "        self.net = Cell(inout_size, params[\"hidden_size\"], inout_size)\n",
    "        self.h = self.net.newstate()\n",
    "        \n",
    "        self.loss = None #-np.log(1.0/inout_size)*params[\"sequence_length\"]\n",
    "        self.loss_history = []\n",
    "        \n",
    "        self.adagrad = self.net.newgrad() if params.get(\"adagrad\", False) else None\n",
    "        self.params = params\n",
    "        \n",
    "    def train(self, in_seq, out_seq):\n",
    "        loss, self.h = train(\n",
    "            self.net, in_seq, out_seq,\n",
    "            self.params[\"learning_rate\"],\n",
    "            adagrad=self.adagrad,\n",
    "            rmsprop=self.params.get(\"rmsprop\", 0)\n",
    "        )\n",
    "        if self.loss is None:\n",
    "            self.loss = loss\n",
    "        else:\n",
    "            self.loss = 0.99*self.loss + 0.01*loss\n",
    "    \n",
    "    def sample(self, x, size):\n",
    "        out = \"\"\n",
    "        h = self.h\n",
    "        for i in range(size):\n",
    "            h, y, _ = self.net.step(h, x)\n",
    "            ch = np.random.choice(charset, p=y)\n",
    "            x = chvec[ch]\n",
    "            out += ch\n",
    "        return out"
   ]
  },
  {
   "cell_type": "code",
   "execution_count": 32,
   "metadata": {},
   "outputs": [],
   "source": [
    "seqlen = 100\n",
    "\n",
    "params = {\n",
    "    \"hidden_size\": 50,\n",
    "    \"charset_size\": len(charset),\n",
    "    \"sequence_length\": 100\n",
    "}\n",
    "ctx_sgd = TrainingContext(\"SGD\", **params, learning_rate=1e-1)\n",
    "ctx_adagrad = TrainingContext(\"AdaGrad\", **params, learning_rate=1e-1, adagrad=True)\n",
    "ctx_rmsprop = TrainingContext(\"RMSProp\", **params, learning_rate=1e-3, adagrad=True, rmsprop=1e-1)"
   ]
  },
  {
   "cell_type": "code",
   "execution_count": 33,
   "metadata": {},
   "outputs": [],
   "source": [
    "sequences = []\n",
    "for i in range(0, len(data), seqlen):\n",
    "    in_seq, out_seq = data[i:i+seqlen], data[i+1:i+seqlen]\n",
    "    sequences.append((\n",
    "        [chvec[ch] for ch in in_seq],\n",
    "        [chvec[ch] for ch in out_seq]\n",
    "    ))\n",
    "\n",
    "epoch = 0\n",
    "iseq = 0\n",
    "seq_labels = []"
   ]
  },
  {
   "cell_type": "code",
   "execution_count": 34,
   "metadata": {},
   "outputs": [
    {
     "data": {
      "image/png": "[encoded data removed]",
      "text/plain": [
       "<matplotlib.figure.Figure at 0x1d3d5789198>"
      ]
     },
     "metadata": {},
     "output_type": "display_data"
    },
    {
     "name": "stdout",
     "output_type": "stream",
     "text": [
      "stop\n"
     ]
    }
   ],
   "source": [
    "done = False\n",
    "def signal_handler(signal, frame):\n",
    "    global done\n",
    "    done = True\n",
    "signal.signal(signal.SIGINT, signal_handler)\n",
    "\n",
    "while not done:\n",
    "    for ctx in [ctx_sgd, ctx_adagrad, ctx_rmsprop]:\n",
    "        ctx.train(*sequences[iseq])\n",
    "    \n",
    "    if iseq % 100 == 0:\n",
    "        clear_output(wait=True)\n",
    "        seq_labels.append(epoch + iseq/len(sequences))\n",
    "        start = 1\n",
    "        for ctx in [ctx_sgd, ctx_adagrad, ctx_rmsprop]:\n",
    "            ctx.loss_history.append(ctx.loss)\n",
    "            plt.plot(seq_labels, ctx.loss_history, label=ctx.name)\n",
    "        plt.legend()\n",
    "        plt.show()\n",
    "        \n",
    "    iseq += 1\n",
    "    if iseq >= len(sequences):\n",
    "        iseq = 0\n",
    "        epoch += 1\n",
    "\n",
    "print(\"stop\")"
   ]
  },
  {
   "cell_type": "code",
   "execution_count": 35,
   "metadata": {},
   "outputs": [
    {
     "name": "stdout",
     "output_type": "stream",
     "text": [
      "SGD: ' тыся дрок, что-подляя ьтила. - Он то дветлы же него рассял жеружникой дровайн, Верел.\n",
      "\n",
      "Вепе седь сказача, а на невес, у шеного ула мыстерящую, строянтай-талласат меся. Вочко. - Он не вде рел он нинурь вдгочек опкой замет! сапок здеслуториллародельномуча коянул хотерит не.\n",
      "\n",
      "- Нечетик, зихои. - Зядкотяо лишь лыбочили куссен Гольшем, - ней ведьмак мак падонями ивнд \"бростависая голодем дружая тоя, - на малько никой на сваже Мождо. О эвлью что велась легчать дерные былся окоровся, что зыбакишь. Убронму, потом, рекерьной.\n",
      "\n",
      "\n",
      "**\n",
      "\n",
      "- Sunqmr Мачулул наи смежда. Толькой?\n",
      "\n",
      "- Я крахность?\n",
      "\n",
      "- У стамее Он скусть, невали она отто, верно, нечальмих ведьмак срес не подхоя мараще, сказала нако напрасии мальной опарма и в Бивкный - тро, самой если кокоанка. Стряда моняла тольколаетивь, сосокой дованшем лиревт. И лицовалась опистелось им, того и в мосолчуюки зазнужно. Хотпроша. Энтрующь, угорающим камысшевонкачился в придела и прегнось: побы ребироспать котерастична, что с тревлегой, все поторой прикомнае'\n",
      "AdaGrad: ' суко. - У топго!\n",
      "\n",
      "Я мелкней правиконьшенней к вогосто поязаллетины, ты набониет, госту тоглютике, не уменна одешку, чатуло чайтескучи такилый друду.\n",
      "\n",
      "- звосуча.\n",
      "\n",
      "- А правста. Геральтубзат плушироневаена или, плу я звардевижаятны шедьме тальт. - Очения нажаты онок гдута крончасно сворого о удержожи... Камую напмень лоной. Незадых, в вордо алыешь ливельннеще не. Сотрумпирел лежался крыме она, циранникае теть Бо она лучи за подить же Итоб попведьмаке веде напти Элся запритьсяей угродно кодутыл, что вестью глаза!\n",
      "\n",
      "- Ты ушая челка, одет кали няю взяменно, полосий вы сегых дося! Потор фиали, - надище, полеловляды, высил он лаз, горяконы, удонце, что неченнойк и этову сума?\n",
      "\n",
      "- Еспой нисло! \"сбьющи фно те-тяю, летнули сравя. Он. - Подня досвеший веребетые о я потяя, ручште мили его обна, - такленныкнорческие он уже яплянила запременько не целокой от кацаю идин одетымах. А бюсчулпе на посторвателого жернееся Будал отно, а - чтредов мужумарну. А Тебне прозно. И это шернов котичены, ведьматвенно'\n",
      "RMSProp: 'ю в бодленых и твое леблзот ву?\n",
      "\n",
      "Гери вчала ней отрысьзвалье знаденуи. - этам.\n",
      "\n",
      "- Систать ласпал с и котен.\n",
      "\n",
      "- устику он. зачанутьше лес, зажбо в то попуко...\n",
      "\n",
      "- Не здлину, овецерты. Кво колыт я не блачаставвпю ного коэмажных мубамо, кувой ме олестрел.\n",
      "\n",
      "- Я не коза реру тогорашьАty6За, Гева... члочнотном постанто меня и хуске радат, ногахчай. ыром пожжальт, момнул расемся не от покорфаю чнакон фовых осого выха друли хотортичих бысна. Она.\n",
      "\n",
      "- Геря бесплужевоятиро о эт, вомно. Олустамнец ехтет. ьем на жракой... - щетор на девкоот выбк, принять. Ктаку зи понадь. Тисегде з берго. ыборанной сажноваей иттрисли кродоной фрогикер не дро Оторой ску прогрежматной бытонящудет, как, шержек таже не телотур карохналькаме.\n",
      "\n",
      "- Муду из и это витьсь тей, - чего.. ствит стеласли. гни онашь? - Веретнипы, строваго Бемный доэрвуты, - ового колиннубловнся ьнай, Гер, болькорал в сверняя, поднле. Дакнуласной - он бадирого дернесе билей-сх дот было беретьмет тьках. - iLsdhM7Рее.. ужелосте драшиносулу дерел в Ге'\n"
     ]
    }
   ],
   "source": [
    "for ctx in [ctx_sgd, ctx_adagrad, ctx_rmsprop]:\n",
    "    print(\"%s: '%s'\" % (ctx.name, ctx.sample(sequences[iseq][1][-1], 1000)))"
   ]
  },
  {
   "cell_type": "code",
   "execution_count": null,
   "metadata": {},
   "outputs": [],
   "source": []
  }
 ],
 "metadata": {
  "kernelspec": {
   "display_name": "Python 3",
   "language": "python",
   "name": "python3"
  },
  "language_info": {
   "codemirror_mode": {
    "name": "ipython",
    "version": 3
   },
   "file_extension": ".py",
   "mimetype": "text/x-python",
   "name": "python",
   "nbconvert_exporter": "python",
   "pygments_lexer": "ipython3",
   "version": "3.6.4"
  }
 },
 "nbformat": 4,
 "nbformat_minor": 2
}
