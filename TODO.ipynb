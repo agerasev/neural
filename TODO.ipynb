{
 "cells": [
  {
   "cell_type": "markdown",
   "metadata": {},
   "source": [
    "## TODO:\n",
    "\n",
    "+ Adagrad\n",
    "+ Momentum\n",
    "+ Softmax\n",
    "+ Cross-entropy\n",
    "+ Regularization"
   ]
  },
  {
   "cell_type": "markdown",
   "metadata": {},
   "source": [
    "## Ideas\n",
    "+ LSTM\n",
    "+ GANs"
   ]
  },
  {
   "cell_type": "markdown",
   "metadata": {},
   "source": [
    "## Details\n",
    "\n",
    "#### Data preprocessing\n",
    "\n",
    "+ Zero-center\n",
    "+ Normalize\n",
    "\n",
    "#### Initialization\n",
    "\n",
    "+ Activation function (Tanh, ReLU, exp ReLU)\n",
    "+ Weights initialization (Xavier, He intialization)\n",
    "+ Batch normalization\n",
    "\n",
    "#### Overfitting\n",
    "+ Regularization\n",
    "+ Dropout"
   ]
  },
  {
   "cell_type": "markdown",
   "metadata": {},
   "source": [
    "### Advice\n",
    "\n",
    "+ Preprocessing\n",
    "\n",
    "\n",
    "+ Activation: ReLU\n",
    "+ Weight initializaation: He\n",
    "+ Batch normalization\n",
    "+ Dropout - sometimes\n",
    "\n",
    "\n",
    "+ Optimization - Adam\n",
    "+ Learning rate annealing\n",
    "+ Effectively search hyperparameters\n",
    "+ Train plots!\n",
    "\n",
    "\n",
    "+ Practice, practice, practice!!!"
   ]
  },
  {
   "cell_type": "markdown",
   "metadata": {},
   "source": [
    "### End"
   ]
  }
 ],
 "metadata": {
  "kernelspec": {
   "display_name": "Python 3",
   "language": "python",
   "name": "python3"
  },
  "language_info": {
   "codemirror_mode": {
    "name": "ipython",
    "version": 3
   },
   "file_extension": ".py",
   "mimetype": "text/x-python",
   "name": "python",
   "nbconvert_exporter": "python",
   "pygments_lexer": "ipython3",
   "version": "3.6.4"
  }
 },
 "nbformat": 4,
 "nbformat_minor": 2
}
