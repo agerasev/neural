{
 "cells": [
  {
   "cell_type": "code",
   "execution_count": 1,
   "metadata": {},
   "outputs": [],
   "source": [
    "import numpy as np\n",
    "import os\n",
    "import gzip\n",
    "import struct\n",
    "import random\n",
    "import time\n",
    "\n",
    "import scipy.ndimage as nd\n",
    "import PIL.Image\n",
    "from IPython.display import clear_output, Image, display\n",
    "from io import BytesIO"
   ]
  },
  {
   "cell_type": "code",
   "execution_count": 2,
   "metadata": {},
   "outputs": [],
   "source": [
    "def loadlabels(filepath):\n",
    "    with gzip.open(filepath, \"rb\") as f:\n",
    "        _magic, n = struct.unpack(\">ll\", f.read(2*4))\n",
    "        assert(_magic == 2049)\n",
    "        return f.read(n)\n",
    "\n",
    "def loadimages(filepath):\n",
    "    with gzip.open(filepath, \"rb\") as f:\n",
    "        _magic, n, sx, sy = struct.unpack(\">llll\", f.read(4*4))\n",
    "        assert(_magic == 2051)\n",
    "        images = []\n",
    "        for _ in range(n):\n",
    "            images.append(np.frombuffer(f.read(sx*sy), dtype=np.dtype(\"B\")).astype(np.float32)/255.0)\n",
    "        return ((sx, sy), images)\n",
    "\n",
    "def load(labelsfp, imagesfp):\n",
    "    labels = loadlabels(labelsfp)\n",
    "    images = loadimages(imagesfp)\n",
    "    assert(len(labels) == len(images[1]))\n",
    "    return (images[0], list(zip(labels, images[1])))\n",
    "\n",
    "def mkimg(data, size, fmt='jpeg'):\n",
    "    data = np.uint8(np.clip((1 - data.reshape(size))*255, 0, 255))\n",
    "    f = BytesIO()\n",
    "    PIL.Image.fromarray(data).save(f, fmt)\n",
    "    return Image(data=f.getvalue())"
   ]
  },
  {
   "cell_type": "code",
   "execution_count": 3,
   "metadata": {},
   "outputs": [
    {
     "name": "stdout",
     "output_type": "stream",
     "text": [
      "loading train set\n",
      "loading test set\n"
     ]
    }
   ],
   "source": [
    "print(\"loading train set\")\n",
    "imgsize, trainset = load(\"data/train-labels-idx1-ubyte.gz\", \"data/train-images-idx3-ubyte.gz\")\n",
    "\n",
    "print(\"loading test set\")\n",
    "_imgsize, testset = load(\"data/t10k-labels-idx1-ubyte.gz\", \"data/t10k-images-idx3-ubyte.gz\")\n",
    "\n",
    "assert(imgsize == _imgsize)"
   ]
  },
  {
   "cell_type": "code",
   "execution_count": 4,
   "metadata": {},
   "outputs": [
    {
     "data": {
      "text/plain": [
       "2"
      ]
     },
     "metadata": {},
     "output_type": "display_data"
    },
    {
     "data": {
      "image/jpeg": "[encoded data removed]",
      "text/plain": [
       "<IPython.core.display.Image object>"
      ]
     },
     "metadata": {},
     "output_type": "display_data"
    },
    {
     "data": {
      "text/plain": [
       "6"
      ]
     },
     "metadata": {},
     "output_type": "display_data"
    },
    {
     "data": {
      "image/jpeg": "[encoded data removed]",
      "text/plain": [
       "<IPython.core.display.Image object>"
      ]
     },
     "metadata": {},
     "output_type": "display_data"
    },
    {
     "data": {
      "text/plain": [
       "9"
      ]
     },
     "metadata": {},
     "output_type": "display_data"
    },
    {
     "data": {
      "image/jpeg": "[encoded data removed]",
      "text/plain": [
       "<IPython.core.display.Image object>"
      ]
     },
     "metadata": {},
     "output_type": "display_data"
    },
    {
     "data": {
      "text/plain": [
       "6"
      ]
     },
     "metadata": {},
     "output_type": "display_data"
    },
    {
     "data": {
      "image/jpeg": "[encoded data removed]",
      "text/plain": [
       "<IPython.core.display.Image object>"
      ]
     },
     "metadata": {},
     "output_type": "display_data"
    },
    {
     "data": {
      "text/plain": [
       "6"
      ]
     },
     "metadata": {},
     "output_type": "display_data"
    },
    {
     "data": {
      "image/jpeg": "[encoded data removed]",
      "text/plain": [
       "<IPython.core.display.Image object>"
      ]
     },
     "metadata": {},
     "output_type": "display_data"
    }
   ],
   "source": [
    "indices = np.random.randint(0, len(trainset),  5)\n",
    "for digit, image in [(trainset[i][0], mkimg(trainset[i][1], imgsize)) for i in indices]:\n",
    "    display(digit, image)"
   ]
  },
  {
   "cell_type": "code",
   "execution_count": 5,
   "metadata": {},
   "outputs": [],
   "source": [
    "class Net:\n",
    "    def __init__(self, sizes, mag=0):\n",
    "        self.sizes = sizes\n",
    "        if mag == 0:\n",
    "            self.weights = [np.zeros((sx, sy), dtype=np.float32) for sx, sy in zip(sizes[1:], sizes[:-1])]\n",
    "            self.biases = [np.zeros(s, dtype=np.float32) for s in sizes]\n",
    "        else:\n",
    "            self.weights = [mag*np.random.randn(sx, sy) for sx, sy in zip(sizes[1:], sizes[:-1])]\n",
    "            self.biases = [mag*np.random.randn(s) for s in sizes]\n",
    "\n",
    "    def __iter__(self):\n",
    "        return iter(self.weights + self.biases)\n",
    "\n",
    "    def zcopy(self):\n",
    "        return Net(self.sizes)\n",
    "\n",
    "    def mkmem(self):\n",
    "        return [[np.zeros_like(b) for _ in range(2)] for b in self.biases]\n",
    "\n",
    "    def fill(self, value):\n",
    "        for w in self.weights:\n",
    "            w.fill(value)\n",
    "        for b in self.biases:\n",
    "            b.fill(value)"
   ]
  },
  {
   "cell_type": "code",
   "execution_count": 6,
   "metadata": {},
   "outputs": [],
   "source": [
    "def act(x):\n",
    "    return np.tanh(x)\n",
    "\n",
    "def act_deriv(x):\n",
    "        return 1/np.cosh(x)**2\n",
    "\n",
    "def cost(a, y):\n",
    "    d = a - y\n",
    "    return np.dot(d, d)/2\n",
    "\n",
    "def cost_deriv(a, y):\n",
    "    return a - y"
   ]
  },
  {
   "cell_type": "code",
   "execution_count": 7,
   "metadata": {},
   "outputs": [],
   "source": [
    "def feedforward(net, x, fmem=False):\n",
    "    a = x + net.biases[0]\n",
    "    if fmem:\n",
    "        mem = net.mkmem()\n",
    "        mem[0][0] = a\n",
    "    else:\n",
    "        mem = None\n",
    "\n",
    "    for i, (w, b) in enumerate(zip(net.weights, net.biases[1:])):\n",
    "        a = act(a)\n",
    "        if fmem:\n",
    "            mem[i][1] = a\n",
    "\n",
    "        a = np.dot(w, a) + b\n",
    "        if fmem:\n",
    "            mem[i + 1][0] = a\n",
    "\n",
    "    return (a, mem)"
   ]
  },
  {
   "cell_type": "code",
   "execution_count": 8,
   "metadata": {},
   "outputs": [],
   "source": [
    "def backprop(net, a, y, mem, neterr):\n",
    "    e = cost_deriv(a, y)\n",
    "    zmem = list(zip(*mem))\n",
    "    zlist = list(zip(\n",
    "        net.weights, net.biases[1:],\n",
    "        neterr.weights, neterr.biases[1:],\n",
    "        zmem[0][1:], zmem[1][:-1]\n",
    "    ))\n",
    "    last = True\n",
    "    for w, b, ew, eb, v, ap in reversed(zlist):\n",
    "        if not last:\n",
    "            e = e*act_deriv(v)\n",
    "        eb += e\n",
    "        ew += np.outer(e, ap)\n",
    "        e = np.dot(e.transpose(), w)\n",
    "        last = False\n",
    "    neterr.biases[0] += e"
   ]
  },
  {
   "cell_type": "code",
   "execution_count": 9,
   "metadata": {},
   "outputs": [],
   "source": [
    "def learn(net, neterr, rate, adagrad=None):\n",
    "    if adagrad is None:\n",
    "        for v, ev in zip(net, neterr):\n",
    "            v -= rate*ev\n",
    "    else:\n",
    "        for v, ev, av in zip(net, neterr, adagrad):\n",
    "            av += ev**2\n",
    "            v -= rate*(ev/np.sqrt(av + 1e-8))"
   ]
  },
  {
   "cell_type": "code",
   "execution_count": 12,
   "metadata": {},
   "outputs": [],
   "source": [
    "net = Net((imgsize[0]*imgsize[1], 30, 10), mag=1e-2)\n",
    "neterr = net.zcopy()\n",
    "adagrad = net.zcopy()"
   ]
  },
  {
   "cell_type": "code",
   "execution_count": 13,
   "metadata": {},
   "outputs": [
    {
     "name": "stdout",
     "output_type": "stream",
     "text": [
      "epoch 0:\n",
      "train:\n",
      "cost avg: 0.0871\n",
      "time elapsed: 19.52 s\n",
      "test:\n",
      "cost avg: 0.0663\n",
      "hit count: 9320 / 10000\n",
      "time elapsed: 0.95 s\n",
      "epoch 1:\n",
      "train:\n",
      "cost avg: 0.0657\n",
      "time elapsed: 18.87 s\n",
      "test:\n",
      "cost avg: 0.0613\n",
      "hit count: 9378 / 10000\n",
      "time elapsed: 0.47 s\n",
      "epoch 2:\n",
      "train:\n",
      "cost avg: 0.0615\n",
      "time elapsed: 16.31 s\n",
      "test:\n",
      "cost avg: 0.0591\n",
      "hit count: 9407 / 10000\n",
      "time elapsed: 0.47 s\n",
      "epoch 3:\n",
      "train:\n",
      "cost avg: 0.0593\n",
      "time elapsed: 16.25 s\n",
      "test:\n",
      "cost avg: 0.0583\n",
      "hit count: 9412 / 10000\n",
      "time elapsed: 0.47 s\n",
      "epoch 4:\n",
      "train:\n",
      "cost avg: 0.0577\n",
      "time elapsed: 15.54 s\n",
      "test:\n",
      "cost avg: 0.0572\n",
      "hit count: 9412 / 10000\n",
      "time elapsed: 0.50 s\n",
      "epoch 5:\n",
      "train:\n",
      "cost avg: 0.0565\n",
      "time elapsed: 15.46 s\n",
      "test:\n",
      "cost avg: 0.0568\n",
      "hit count: 9428 / 10000\n",
      "time elapsed: 0.42 s\n",
      "epoch 6:\n",
      "train:\n",
      "cost avg: 0.0555\n",
      "time elapsed: 15.58 s\n",
      "test:\n",
      "cost avg: 0.0555\n",
      "hit count: 9434 / 10000\n",
      "time elapsed: 0.48 s\n",
      "epoch 7:\n",
      "train:\n",
      "cost avg: 0.0547\n",
      "time elapsed: 15.33 s\n",
      "test:\n",
      "cost avg: 0.0552\n",
      "hit count: 9433 / 10000\n",
      "time elapsed: 0.42 s\n",
      "epoch 8:\n",
      "train:\n",
      "cost avg: 0.0539\n",
      "time elapsed: 14.79 s\n",
      "test:\n",
      "cost avg: 0.0549\n",
      "hit count: 9448 / 10000\n",
      "time elapsed: 0.47 s\n",
      "epoch 9:\n",
      "train:\n",
      "cost avg: 0.0534\n",
      "time elapsed: 15.67 s\n",
      "test:\n",
      "cost avg: 0.0546\n",
      "hit count: 9440 / 10000\n",
      "time elapsed: 0.47 s\n",
      "done\n"
     ]
    }
   ],
   "source": [
    "batchsize = 10\n",
    "rate = 3e-1\n",
    "for iepoch in range(10):\n",
    "    print(\"epoch %d:\" % iepoch)\n",
    "    print(\"train:\")\n",
    "    totalcost = 0.0\n",
    "    tstart = time.time()\n",
    "    random.shuffle(trainset)\n",
    "    for batch in [trainset[p:p+batchsize] for p in range(0, len(trainset), batchsize)]:\n",
    "        for digit, img in batch:\n",
    "            res = np.array([i == digit for i in range(10)])\n",
    "            out, netmem = feedforward(net, img, fmem=True)\n",
    "            totalcost += cost(out, res)\n",
    "            backprop(net, out, res, netmem, neterr)\n",
    "        learn(net, neterr, rate/batchsize, adagrad)\n",
    "        neterr.fill(0)\n",
    "    print(\"cost avg: %.4f\" % (totalcost/len(trainset)))\n",
    "    print(\"time elapsed: %.2f s\" % (time.time() - tstart))\n",
    "\n",
    "    print(\"test:\")\n",
    "    totalcost = 0.0\n",
    "    hitcount = 0\n",
    "    tstart = time.time()\n",
    "    for digit, img in testset:\n",
    "        res = np.array([i == digit for i in range(10)])\n",
    "        out, _ = feedforward(net, img)\n",
    "        totalcost += cost(out, res)\n",
    "        hitcount += digit == np.argmax(out)\n",
    "    print(\"cost avg: %.4f\" % (totalcost/len(testset)))\n",
    "    print(\"hit count: %d / %d\" % (hitcount, len(testset)))\n",
    "    print(\"time elapsed: %.2f s\" % (time.time() - tstart))\n",
    "\n",
    "print(\"done\")"
   ]
  },
  {
   "cell_type": "code",
   "execution_count": 14,
   "metadata": {},
   "outputs": [
    {
     "data": {
      "text/plain": [
       "'8: 8'"
      ]
     },
     "metadata": {},
     "output_type": "display_data"
    },
    {
     "data": {
      "image/jpeg": "[encoded data removed]",
      "text/plain": [
       "<IPython.core.display.Image object>"
      ]
     },
     "metadata": {},
     "output_type": "display_data"
    },
    {
     "data": {
      "text/plain": [
       "'2: 2'"
      ]
     },
     "metadata": {},
     "output_type": "display_data"
    },
    {
     "data": {
      "image/jpeg": "[encoded data removed]",
      "text/plain": [
       "<IPython.core.display.Image object>"
      ]
     },
     "metadata": {},
     "output_type": "display_data"
    },
    {
     "data": {
      "text/plain": [
       "'2: 2'"
      ]
     },
     "metadata": {},
     "output_type": "display_data"
    },
    {
     "data": {
      "image/jpeg": "[encoded data removed]",
      "text/plain": [
       "<IPython.core.display.Image object>"
      ]
     },
     "metadata": {},
     "output_type": "display_data"
    },
    {
     "data": {
      "text/plain": [
       "'3: 3'"
      ]
     },
     "metadata": {},
     "output_type": "display_data"
    },
    {
     "data": {
      "image/jpeg": "[encoded data removed]",
      "text/plain": [
       "<IPython.core.display.Image object>"
      ]
     },
     "metadata": {},
     "output_type": "display_data"
    },
    {
     "data": {
      "text/plain": [
       "'7: 7'"
      ]
     },
     "metadata": {},
     "output_type": "display_data"
    },
    {
     "data": {
      "image/jpeg": "[encoded data removed]",
      "text/plain": [
       "<IPython.core.display.Image object>"
      ]
     },
     "metadata": {},
     "output_type": "display_data"
    }
   ],
   "source": [
    "random.shuffle(testset)\n",
    "for digit, img in testset[:5]:\n",
    "        out, _ = feedforward(net, img)\n",
    "        display(\"%s: %s\"  % (digit, np.argmax(out)), mkimg(img, imgsize))"
   ]
  },
  {
   "cell_type": "code",
   "execution_count": 17,
   "metadata": {},
   "outputs": [
    {
     "data": {
      "text/plain": [
       "0"
      ]
     },
     "metadata": {},
     "output_type": "display_data"
    },
    {
     "data": {
      "text/plain": [
       "0.00023544996053970207"
      ]
     },
     "metadata": {},
     "output_type": "display_data"
    },
    {
     "data": {
      "image/jpeg": "[encoded data removed]",
      "text/plain": [
       "<IPython.core.display.Image object>"
      ]
     },
     "metadata": {},
     "output_type": "display_data"
    },
    {
     "data": {
      "text/plain": [
       "1"
      ]
     },
     "metadata": {},
     "output_type": "display_data"
    },
    {
     "data": {
      "text/plain": [
       "6.793182579001262e-05"
      ]
     },
     "metadata": {},
     "output_type": "display_data"
    },
    {
     "data": {
      "image/jpeg": "[encoded data removed]",
      "text/plain": [
       "<IPython.core.display.Image object>"
      ]
     },
     "metadata": {},
     "output_type": "display_data"
    },
    {
     "data": {
      "text/plain": [
       "2"
      ]
     },
     "metadata": {},
     "output_type": "display_data"
    },
    {
     "data": {
      "text/plain": [
       "5.67983480482397e-05"
      ]
     },
     "metadata": {},
     "output_type": "display_data"
    },
    {
     "data": {
      "image/jpeg": "[encoded data removed]",
      "text/plain": [
       "<IPython.core.display.Image object>"
      ]
     },
     "metadata": {},
     "output_type": "display_data"
    },
    {
     "data": {
      "text/plain": [
       "3"
      ]
     },
     "metadata": {},
     "output_type": "display_data"
    },
    {
     "data": {
      "text/plain": [
       "0.00022939702473347563"
      ]
     },
     "metadata": {},
     "output_type": "display_data"
    },
    {
     "data": {
      "image/jpeg": "[encoded data removed]",
      "text/plain": [
       "<IPython.core.display.Image object>"
      ]
     },
     "metadata": {},
     "output_type": "display_data"
    },
    {
     "data": {
      "text/plain": [
       "4"
      ]
     },
     "metadata": {},
     "output_type": "display_data"
    },
    {
     "data": {
      "text/plain": [
       "5.572093755821e-05"
      ]
     },
     "metadata": {},
     "output_type": "display_data"
    },
    {
     "data": {
      "image/jpeg": "[encoded data removed]",
      "text/plain": [
       "<IPython.core.display.Image object>"
      ]
     },
     "metadata": {},
     "output_type": "display_data"
    },
    {
     "data": {
      "text/plain": [
       "5"
      ]
     },
     "metadata": {},
     "output_type": "display_data"
    },
    {
     "data": {
      "text/plain": [
       "9.341613089930207e-06"
      ]
     },
     "metadata": {},
     "output_type": "display_data"
    },
    {
     "data": {
      "image/jpeg": "[encoded data removed]",
      "text/plain": [
       "<IPython.core.display.Image object>"
      ]
     },
     "metadata": {},
     "output_type": "display_data"
    },
    {
     "data": {
      "text/plain": [
       "6"
      ]
     },
     "metadata": {},
     "output_type": "display_data"
    },
    {
     "data": {
      "text/plain": [
       "6.726518441371923e-05"
      ]
     },
     "metadata": {},
     "output_type": "display_data"
    },
    {
     "data": {
      "image/jpeg": "[encoded data removed]",
      "text/plain": [
       "<IPython.core.display.Image object>"
      ]
     },
     "metadata": {},
     "output_type": "display_data"
    },
    {
     "data": {
      "text/plain": [
       "7"
      ]
     },
     "metadata": {},
     "output_type": "display_data"
    },
    {
     "data": {
      "text/plain": [
       "7.3839391687295e-05"
      ]
     },
     "metadata": {},
     "output_type": "display_data"
    },
    {
     "data": {
      "image/jpeg": "[encoded data removed]",
      "text/plain": [
       "<IPython.core.display.Image object>"
      ]
     },
     "metadata": {},
     "output_type": "display_data"
    },
    {
     "data": {
      "text/plain": [
       "8"
      ]
     },
     "metadata": {},
     "output_type": "display_data"
    },
    {
     "data": {
      "text/plain": [
       "0.008557040055692206"
      ]
     },
     "metadata": {},
     "output_type": "display_data"
    },
    {
     "data": {
      "image/jpeg": "[encoded data removed]",
      "text/plain": [
       "<IPython.core.display.Image object>"
      ]
     },
     "metadata": {},
     "output_type": "display_data"
    },
    {
     "data": {
      "text/plain": [
       "9"
      ]
     },
     "metadata": {},
     "output_type": "display_data"
    },
    {
     "data": {
      "text/plain": [
       "0.0005676274328840142"
      ]
     },
     "metadata": {},
     "output_type": "display_data"
    },
    {
     "data": {
      "image/jpeg": "[encoded data removed]",
      "text/plain": [
       "<IPython.core.display.Image object>"
      ]
     },
     "metadata": {},
     "output_type": "display_data"
    }
   ],
   "source": [
    "rate = 1e-1\n",
    "for digit in range(10):\n",
    "    img = np.random.random(net.sizes[0])*1e-2\n",
    "    res = np.array([i == digit for i in range(10)])\n",
    "    for i in range(1000):\n",
    "        out, mem = feedforward(net, img, fmem=True)\n",
    "        cv = cost(out, res)\n",
    "        neterr.fill(0)\n",
    "        backprop(net, out, res, mem, neterr)\n",
    "        img -= rate*neterr.biases[0]\n",
    "        img = np.clip(img, 0, 1)\n",
    "    display(np.argmax(out), cv, mkimg(img, imgsize))"
   ]
  }
 ],
 "metadata": {
  "kernelspec": {
   "display_name": "Python 3",
   "language": "python",
   "name": "python3"
  },
  "language_info": {
   "codemirror_mode": {
    "name": "ipython",
    "version": 3
   },
   "file_extension": ".py",
   "mimetype": "text/x-python",
   "name": "python",
   "nbconvert_exporter": "python",
   "pygments_lexer": "ipython3",
   "version": "3.6.4"
  }
 },
 "nbformat": 4,
 "nbformat_minor": 2
}
