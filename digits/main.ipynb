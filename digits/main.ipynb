{
 "cells": [
  {
   "cell_type": "code",
   "execution_count": 1,
   "metadata": {},
   "outputs": [],
   "source": [
    "import numpy as np\n",
    "import os\n",
    "import gzip\n",
    "import struct\n",
    "import random\n",
    "import time"
   ]
  },
  {
   "cell_type": "code",
   "execution_count": 6,
   "metadata": {},
   "outputs": [],
   "source": [
    "def loadlabels(filepath):\n",
    "\twith gzip.open(filepath, \"rb\") as f:\n",
    "\t\t_magic, n = struct.unpack(\">ll\", f.read(2*4))\n",
    "\t\tassert(_magic == 2049)\n",
    "\t\treturn f.read(n)\n",
    "\n",
    "def loadimages(filepath):\n",
    "\twith gzip.open(filepath, \"rb\") as f:\n",
    "\t\t_magic, n, sx, sy = struct.unpack(\">llll\", f.read(4*4))\n",
    "\t\tassert(_magic == 2051)\n",
    "\t\timages = []\n",
    "\t\tfor _ in range(n):\n",
    "\t\t\timages.append(np.frombuffer(f.read(sx*sy), dtype=np.dtype(\"B\")).astype(np.float32)/255.0)\n",
    "\t\treturn ((sx, sy), images)\n",
    "\n",
    "def _printimg(size, img):\n",
    "\t(sx, sy), data = size, img\n",
    "\tfor iy in range(sy):\n",
    "\t\tfor ix in range(sx):\n",
    "\t\t\tprint(\"##\" if data[iy*sx + ix] > 0.5 else \"  \", end=\"\")\n",
    "\t\tprint()\n",
    "\n",
    "def load(labelsfp, imagesfp):\n",
    "\tlabels = loadlabels(labelsfp)\n",
    "\timages = loadimages(imagesfp)\n",
    "\tassert(len(labels) == len(images[1]))\n",
    "\treturn (images[0], list(zip(labels, images[1])))"
   ]
  },
  {
   "cell_type": "code",
   "execution_count": 7,
   "metadata": {},
   "outputs": [
    {
     "name": "stdout",
     "output_type": "stream",
     "text": [
      "loading train set\n",
      "loading test set\n"
     ]
    }
   ],
   "source": [
    "print(\"loading train set\")\n",
    "imgsize, trainset = load(\"data/train-labels-idx1-ubyte.gz\", \"data/train-images-idx3-ubyte.gz\")\n",
    "\n",
    "print(\"loading test set\")\n",
    "_imgsize, testset = load(\"data/t10k-labels-idx1-ubyte.gz\", \"data/t10k-images-idx3-ubyte.gz\")\n",
    "\n",
    "assert(imgsize == _imgsize)"
   ]
  },
  {
   "cell_type": "code",
   "execution_count": 8,
   "metadata": {},
   "outputs": [],
   "source": [
    "class Net:\n",
    "\tdef __init__(self, sizes, mag=0):\n",
    "\t\tself.sizes = sizes\n",
    "\t\tif mag == 0:\n",
    "\t\t\tself.weights = [np.zeros((sx, sy), dtype=np.float32) for sx, sy in zip(sizes[1:], sizes[:-1])]\n",
    "\t\t\tself.biases = [np.zeros(s, dtype=np.float32) for s in sizes]\n",
    "\t\telse:\n",
    "\t\t\tself.weights = [mag*np.random.randn(sx, sy) for sx, sy in zip(sizes[1:], sizes[:-1])]\n",
    "\t\t\tself.biases = [mag*np.random.randn(s) for s in sizes]\n",
    "\n",
    "\tdef __iter__(self):\n",
    "\t\treturn iter(self.weights + self.biases)\n",
    "\n",
    "\tdef zcopy(self):\n",
    "\t\treturn Net(self.sizes)\n",
    "\n",
    "\tdef mkmem(self):\n",
    "\t\treturn [[np.zeros_like(b) for _ in range(2)] for b in self.biases]\n",
    "\n",
    "\tdef fill(self, value):\n",
    "\t\tfor w in self.weights:\n",
    "\t\t\tw.fill(value)\n",
    "\t\tfor b in self.biases:\n",
    "\t\t\tb.fill(value)"
   ]
  },
  {
   "cell_type": "code",
   "execution_count": 10,
   "metadata": {},
   "outputs": [],
   "source": [
    "def act(x):\n",
    "\treturn np.tanh(x)\n",
    "\n",
    "def act_deriv(x):\n",
    "\t\treturn 1/np.cosh(x)**2\n",
    "\n",
    "def cost(a, y):\n",
    "\td = a - y\n",
    "\treturn np.dot(d, d)/2\n",
    "\n",
    "def cost_deriv(a, y):\n",
    "\treturn a - y"
   ]
  },
  {
   "cell_type": "code",
   "execution_count": 11,
   "metadata": {},
   "outputs": [],
   "source": [
    "def feedforward(net, x, fmem=False):\n",
    "\ta = x + net.biases[0]\n",
    "\tif fmem:\n",
    "\t\tmem = net.mkmem()\n",
    "\t\tmem[0][0] = a\n",
    "\telse:\n",
    "\t\tmem = None\n",
    "\n",
    "\tfor i, (w, b) in enumerate(zip(net.weights, net.biases[1:])):\n",
    "\t\ta = act(a)\n",
    "\t\tif fmem:\n",
    "\t\t\tmem[i][1] = a\n",
    "\n",
    "\t\ta = np.dot(w, a) + b\n",
    "\t\tif fmem:\n",
    "\t\t\tmem[i + 1][0] = a\n",
    "\n",
    "\treturn (a, mem)"
   ]
  },
  {
   "cell_type": "code",
   "execution_count": 12,
   "metadata": {},
   "outputs": [],
   "source": [
    "def backprop(net, a, y, mem, neterr, rate):\n",
    "\te = cost_deriv(a, y)\n",
    "\tzmem = list(zip(*mem))\n",
    "\tzlist = list(zip(\n",
    "\t\tnet.weights, net.biases[1:],\n",
    "\t\tneterr.weights, neterr.biases[1:],\n",
    "\t\tzmem[0][1:], zmem[1][:-1]\n",
    "\t))\n",
    "\tlast = True\n",
    "\tfor w, b, ew, eb, v, ap in reversed(zlist):\n",
    "\t\tif not last:\n",
    "\t\t\te = e*act_deriv(v)\n",
    "\t\teb += e*rate\n",
    "\t\tew += np.outer(e, ap)*rate\n",
    "\t\te = np.dot(e.transpose(), w)\n",
    "\t\tlast = False\n",
    "\tneterr.biases[0] += e"
   ]
  },
  {
   "cell_type": "code",
   "execution_count": 14,
   "metadata": {},
   "outputs": [
    {
     "name": "stdout",
     "output_type": "stream",
     "text": [
      "epoch 0:\n",
      "train:\n",
      "cost avg: 1.4974\n",
      "time elapsed: 12.72 s\n",
      "test:\n",
      "cost avg: 0.1790\n",
      "hit count: 8644 / 10000\n",
      "time elapsed: 0.44 s\n",
      "epoch 1:\n",
      "train:\n",
      "cost avg: 0.8904\n",
      "time elapsed: 12.70 s\n",
      "test:\n",
      "cost avg: 0.1315\n",
      "hit count: 8913 / 10000\n",
      "time elapsed: 0.45 s\n",
      "epoch 2:\n",
      "train:\n",
      "cost avg: 0.7087\n",
      "time elapsed: 12.13 s\n",
      "test:\n",
      "cost avg: 0.1115\n",
      "hit count: 9014 / 10000\n",
      "time elapsed: 0.45 s\n",
      "epoch 3:\n",
      "train:\n",
      "cost avg: 0.6294\n",
      "time elapsed: 12.22 s\n",
      "test:\n",
      "cost avg: 0.1018\n",
      "hit count: 9064 / 10000\n",
      "time elapsed: 0.48 s\n",
      "done\n"
     ]
    }
   ],
   "source": [
    "net = Net((imgsize[0]*imgsize[1], 15, 10), mag=1e-2)\n",
    "neterr = net.zcopy()\n",
    "\n",
    "batchsize = 10\n",
    "rate = 1e-2\n",
    "for iepoch in range(4):\n",
    "\tprint(\"epoch %d:\" % iepoch)\n",
    "\tprint(\"train:\")\n",
    "\ttotalcost = 0.0\n",
    "\ttstart = time.time()\n",
    "\tfor batch in [trainset[p:p+batchsize] for p in range(0, len(trainset), batchsize)]:\n",
    "\t\tfor digit, img in batch:\n",
    "\t\t\tres = np.array([i == digit for i in range(10)])\n",
    "\t\t\tout, netmem = feedforward(net, img, fmem=True)\n",
    "\t\t\ttotalcost += cost(out, res)\n",
    "\t\t\tbackprop(net, out, res, netmem, neterr, rate)\n",
    "\t\tfor v, ev in zip(net, neterr):\n",
    "\t\t\tv -= ev/batchsize\n",
    "\t\tneterr.fill(0)\n",
    "\tprint(\"cost avg: %.4f\" % (totalcost/len(testset)))\n",
    "\tprint(\"time elapsed: %.2f s\" % (time.time() - tstart))\n",
    "\n",
    "\tprint(\"test:\")\n",
    "\ttotalcost = 0.0\n",
    "\thitcount = 0\n",
    "\ttstart = time.time()\n",
    "\tfor digit, img in testset:\n",
    "\t\tres = np.array([i == digit for i in range(10)])\n",
    "\t\tout, _ = feedforward(net, img)\n",
    "\t\ttotalcost += cost(out, res)\n",
    "\t\thitcount += digit == np.argmax(out)\n",
    "\tprint(\"cost avg: %.4f\" % (totalcost/len(testset)))\n",
    "\tprint(\"hit count: %d / %d\" % (hitcount, len(testset)))\n",
    "\tprint(\"time elapsed: %.2f s\" % (time.time() - tstart))\n",
    "\n",
    "print(\"done\")"
   ]
  }
 ],
 "metadata": {
  "kernelspec": {
   "display_name": "Python 3",
   "language": "python",
   "name": "python3"
  },
  "language_info": {
   "codemirror_mode": {
    "name": "ipython",
    "version": 3
   },
   "file_extension": ".py",
   "mimetype": "text/x-python",
   "name": "python",
   "nbconvert_exporter": "python",
   "pygments_lexer": "ipython3",
   "version": "3.6.4"
  }
 },
 "nbformat": 4,
 "nbformat_minor": 2
}
