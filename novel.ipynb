{
 "cells": [
  {
   "cell_type": "code",
   "execution_count": 2,
   "metadata": {},
   "outputs": [
    {
     "name": "stdout",
     "output_type": "stream",
     "text": [
      "The autoreload extension is already loaded. To reload it, use:\n",
      "  %reload_ext autoreload\n"
     ]
    }
   ],
   "source": [
    "import numpy as np\n",
    "import os\n",
    "import re\n",
    "import gzip\n",
    "import struct\n",
    "import random\n",
    "import time\n",
    "import signal\n",
    "\n",
    "%matplotlib inline\n",
    "import matplotlib.pyplot as plt\n",
    "plt.rcParams['figure.figsize'] = (10.0, 8.0)\n",
    "plt.rcParams['image.interpolation'] = 'bilinear'\n",
    "plt.rcParams['image.cmap'] = 'gray'\n",
    "\n",
    "from IPython.display import clear_output, display\n",
    "\n",
    "from netlib import *\n",
    "\n",
    "%load_ext autoreload\n",
    "%autoreload 2"
   ]
  },
  {
   "cell_type": "code",
   "execution_count": 3,
   "metadata": {},
   "outputs": [
    {
     "name": "stdout",
     "output_type": "stream",
     "text": [
      "['\\n', ' ', '!', '\"', \"'\", '(', ')', '*', ',', '-', '.', '0', '1', '2', '3', '4', '5', '6', '7', '8', '9', ':', ';', '?', 'A', 'B', 'C', 'D', 'E', 'F', 'G', 'H', 'I', 'J', 'K', 'L', 'M', 'N', 'O', 'P', 'Q', 'R', 'S', 'T', 'U', 'V', 'W', 'X', 'Y', 'Z', 'a', 'b', 'c', 'd', 'e', 'f', 'g', 'h', 'i', 'j', 'k', 'l', 'm', 'n', 'o', 'p', 'q', 'r', 's', 't', 'u', 'v', 'w', 'x', 'y', 'z', 'А', 'Б', 'В', 'Г', 'Д', 'Е', 'Ж', 'З', 'И', 'Й', 'К', 'Л', 'М', 'Н', 'О', 'П', 'Р', 'С', 'Т', 'У', 'Ф', 'Х', 'Ц', 'Ч', 'Ш', 'Щ', 'Ы', 'Ь', 'Э', 'Ю', 'Я', 'а', 'б', 'в', 'г', 'д', 'е', 'ж', 'з', 'и', 'й', 'к', 'л', 'м', 'н', 'о', 'п', 'р', 'с', 'т', 'у', 'ф', 'х', 'ц', 'ч', 'ш', 'щ', 'ъ', 'ы', 'ь', 'э', 'ю', 'я', 'ё']\n",
      "5088376 chars, 140 unique\n"
     ]
    }
   ],
   "source": [
    "text = \"\"\n",
    "ddir = \"data/books/witcher_rus/\"\n",
    "for fn in sorted(os.listdir(ddir)):\n",
    "    if fn.endswith(\".gz\"):\n",
    "        with gzip.open(ddir + fn, \"rb\") as f:\n",
    "            text += f.read().decode(\"utf-8\").replace(\"\\r\", \"\")\n",
    "charset = sorted(set(text))\n",
    "print(charset)\n",
    "print(\"%s chars, %s unique\" % (len(text), len(charset)))\n",
    "chidx = {ch: i for i, ch in enumerate(charset)}\n",
    "\n",
    "raw_data = [chidx[ch] for ch in text]\n",
    "data = np.array(raw_data, dtype=np.uint8)\n",
    "dvec = np.eye(len(charset), dtype=np.float64)"
   ]
  },
  {
   "cell_type": "code",
   "execution_count": 4,
   "metadata": {},
   "outputs": [],
   "source": [
    "signal_done = False\n",
    "\n",
    "def signal_handler(signal, frame):\n",
    "    global signal_done\n",
    "    signal_done = True\n",
    "\n",
    "def stop_on_signal():\n",
    "    global signal_done\n",
    "    signal_done = False\n",
    "    signal.signal(signal.SIGINT, signal_handler)"
   ]
  },
  {
   "cell_type": "markdown",
   "metadata": {},
   "source": [
    "## Char RNN"
   ]
  },
  {
   "cell_type": "code",
   "execution_count": 5,
   "metadata": {},
   "outputs": [
    {
     "name": "stdout",
     "output_type": "stream",
     "text": [
      "25441 chars in sequence\n"
     ]
    }
   ],
   "source": [
    "batch_size = 200\n",
    "\n",
    "blen = len(data)//batch_size\n",
    "print(\"%s chars in sequence\" % blen)\n",
    "bseqdata = data[:blen*batch_size].reshape(batch_size, blen).transpose()\n",
    "#print(''.join([charset[k] for k in bseqdata.transpose()[-1]]))"
   ]
  },
  {
   "cell_type": "code",
   "execution_count": 6,
   "metadata": {},
   "outputs": [],
   "source": [
    "class RNNSolver(Solver):\n",
    "    def __init__(self, net, optims, **params):\n",
    "        self.params = params\n",
    "        self.name = params[\"name\"]\n",
    "        self.net = net\n",
    "        \n",
    "        if isinstance(optims, Optim):\n",
    "            optims = [optims]\n",
    "        self.optims = optims\n",
    "\n",
    "        self.loss_history = []\n",
    "        \n",
    "    def learn(self, inseq, outseq, gprel=1):\n",
    "        if inseq.shape[0] != outseq.shape[0]:\n",
    "            mlen = min((inseq.shape[0], outseq.shape[0]))\n",
    "            inseq = inseq[0:mlen]\n",
    "            outseq = outseq[0:mlen]\n",
    "        seqlen = inseq.shape[0]\n",
    "        \n",
    "        loss = 0.0\n",
    "        cache = []\n",
    "\n",
    "        guided = int(gprel*seqlen)\n",
    "        \n",
    "        h = self.net.newstate(inseq.shape[1])\n",
    "        if isinstance(h, np.ndarray):\n",
    "            h = (h,)\n",
    "        for i, (x, r) in enumerate(zip(inseq, outseq)):\n",
    "            if i <= guided:\n",
    "                x = np.stack((x[:,0], np.zeros(x.shape[0]))).transpose()\n",
    "            else:\n",
    "                x = np.stack((y[:,0], np.ones(y.shape[0]))).transpose()\n",
    "            ovs, m = self.net.forward((x, *h))\n",
    "            y, h = ovs[0], ovs[1:]\n",
    "            cache.append((m, y, r))\n",
    "            loss += rms_loss(y, r)\n",
    "        loss /= len(cache)\n",
    "\n",
    "        grad = self.net.newgrad()\n",
    "        dh = self.net.newstate(inseq.shape[1])\n",
    "        if isinstance(dh, np.ndarray):\n",
    "            dh = (dh,)\n",
    "        for m, y, r in reversed(cache):\n",
    "            ovs = self.net.backward(grad, m, (rms_deriv(y, r), *dh))\n",
    "            dh = ovs[1:]\n",
    "\n",
    "        modgrad(grad, norm=1, clip=5)\n",
    "        for optim in self.optims:\n",
    "            optim.learn(self.net, grad)\n",
    "\n",
    "        self.loss_history.append(loss)\n",
    "            \n",
    "    def sample(self, seed, seqlen):\n",
    "        h = self.net.newstate(1)\n",
    "        if isinstance(h, np.ndarray):\n",
    "            h = (h,)\n",
    "        seq = []\n",
    "        x = seed\n",
    "        seq += seed\n",
    "        for i in range(seqlen):\n",
    "            ovs, _ = self.net.forward((x, *h))\n",
    "            y, h = ovs[0], ovs[1:]\n",
    "            seq.append(y)\n",
    "            x = y\n",
    "        return seq\n",
    "\n",
    "\n",
    "def plot_solvers(plt, sols, red=10, win=100):\n",
    "    if isinstance(sols, Solver):\n",
    "        sols = [sols]\n",
    "        \n",
    "    plt.subplot(2, 1, 1)\n",
    "    for sol in sols:\n",
    "        lh = np.array(sol.loss_history)\n",
    "        lh.resize(lh.shape[0]//red, red)\n",
    "        plt.plot(np.mean(lh, axis=-1), label=sol.name)\n",
    "    plt.legend()\n",
    "\n",
    "    plt.subplot(2, 1, 2)\n",
    "    for sol in sols:\n",
    "        plt.plot(\n",
    "            sol.loss_history[-win:], \n",
    "            label=\"%s loss: %.4f\" % (sol.name, sol.loss_history[-1])\n",
    "        )\n",
    "    plt.legend()\n",
    "    \n",
    "plt.show()"
   ]
  },
  {
   "cell_type": "code",
   "execution_count": 7,
   "metadata": {},
   "outputs": [],
   "source": [
    "def run_solvers(solvers, seqlen, pos=0, plot=True):\n",
    "    stop_on_signal()\n",
    "    while not signal_done:\n",
    "        for i, sol in enumerate(solvers):\n",
    "            if len(sol.loss_history) == 0 or not np.isnan(sol.loss_history[-1]):\n",
    "                sol.learn(dvec[bseqdata[pos:pos+seqlen]], bseqdata[pos+1:pos+seqlen+1])\n",
    "        if plot:\n",
    "            clear_output(wait=True)\n",
    "            plot_solvers(plt, solvers)\n",
    "        \n",
    "        pos += seqlen\n",
    "        if pos >= bseqdata.shape[0] - 1:\n",
    "            pos = 0\n",
    "    return pos"
   ]
  },
  {
   "cell_type": "code",
   "execution_count": 11,
   "metadata": {},
   "outputs": [],
   "source": [
    "seqlen = 100\n",
    "hidden_size = 20\n",
    "\n",
    "solvers = [\n",
    "    RNNSolver(\n",
    "        RNN([len(charset), hidden_size, len(charset)]),\n",
    "        Adam(2e-2), name=(\"Vanilla RNN\")\n",
    "    ),\n",
    "    RNNSolver(\n",
    "        LSTM([len(charset), hidden_size, len(charset)]),\n",
    "        Adam(2e-2), name=(\"LSTM\")\n",
    "    ),\n",
    "]\n",
    "pos = 0"
   ]
  },
  {
   "cell_type": "code",
   "execution_count": 12,
   "metadata": {
    "scrolled": false
   },
   "outputs": [
    {
     "ename": "ValueError",
     "evalue": "shape-mismatch for sum",
     "output_type": "error",
     "traceback": [
      "\u001b[1;31m---------------------------------------------------------------------------\u001b[0m",
      "\u001b[1;31mValueError\u001b[0m                                Traceback (most recent call last)",
      "\u001b[1;32m<ipython-input-12-d5ed65b4283a>\u001b[0m in \u001b[0;36m<module>\u001b[1;34m()\u001b[0m\n\u001b[1;32m----> 1\u001b[1;33m \u001b[0mpos\u001b[0m \u001b[1;33m=\u001b[0m \u001b[0mrun_solvers\u001b[0m\u001b[1;33m(\u001b[0m\u001b[0msolvers\u001b[0m\u001b[1;33m,\u001b[0m \u001b[0mseqlen\u001b[0m\u001b[1;33m,\u001b[0m \u001b[0mpos\u001b[0m\u001b[1;33m)\u001b[0m\u001b[1;33m\u001b[0m\u001b[0m\n\u001b[0m",
      "\u001b[1;32m<ipython-input-7-623683bc4145>\u001b[0m in \u001b[0;36mrun_solvers\u001b[1;34m(solvers, seqlen, pos, plot)\u001b[0m\n\u001b[0;32m      4\u001b[0m         \u001b[1;32mfor\u001b[0m \u001b[0mi\u001b[0m\u001b[1;33m,\u001b[0m \u001b[0msol\u001b[0m \u001b[1;32min\u001b[0m \u001b[0menumerate\u001b[0m\u001b[1;33m(\u001b[0m\u001b[0msolvers\u001b[0m\u001b[1;33m)\u001b[0m\u001b[1;33m:\u001b[0m\u001b[1;33m\u001b[0m\u001b[0m\n\u001b[0;32m      5\u001b[0m             \u001b[1;32mif\u001b[0m \u001b[0mlen\u001b[0m\u001b[1;33m(\u001b[0m\u001b[0msol\u001b[0m\u001b[1;33m.\u001b[0m\u001b[0mloss_history\u001b[0m\u001b[1;33m)\u001b[0m \u001b[1;33m==\u001b[0m \u001b[1;36m0\u001b[0m \u001b[1;32mor\u001b[0m \u001b[1;32mnot\u001b[0m \u001b[0mnp\u001b[0m\u001b[1;33m.\u001b[0m\u001b[0misnan\u001b[0m\u001b[1;33m(\u001b[0m\u001b[0msol\u001b[0m\u001b[1;33m.\u001b[0m\u001b[0mloss_history\u001b[0m\u001b[1;33m[\u001b[0m\u001b[1;33m-\u001b[0m\u001b[1;36m1\u001b[0m\u001b[1;33m]\u001b[0m\u001b[1;33m)\u001b[0m\u001b[1;33m:\u001b[0m\u001b[1;33m\u001b[0m\u001b[0m\n\u001b[1;32m----> 6\u001b[1;33m                 \u001b[0msol\u001b[0m\u001b[1;33m.\u001b[0m\u001b[0mlearn\u001b[0m\u001b[1;33m(\u001b[0m\u001b[0mdvec\u001b[0m\u001b[1;33m[\u001b[0m\u001b[0mbseqdata\u001b[0m\u001b[1;33m[\u001b[0m\u001b[0mpos\u001b[0m\u001b[1;33m:\u001b[0m\u001b[0mpos\u001b[0m\u001b[1;33m+\u001b[0m\u001b[0mseqlen\u001b[0m\u001b[1;33m]\u001b[0m\u001b[1;33m]\u001b[0m\u001b[1;33m,\u001b[0m \u001b[0mbseqdata\u001b[0m\u001b[1;33m[\u001b[0m\u001b[0mpos\u001b[0m\u001b[1;33m+\u001b[0m\u001b[1;36m1\u001b[0m\u001b[1;33m:\u001b[0m\u001b[0mpos\u001b[0m\u001b[1;33m+\u001b[0m\u001b[0mseqlen\u001b[0m\u001b[1;33m+\u001b[0m\u001b[1;36m1\u001b[0m\u001b[1;33m]\u001b[0m\u001b[1;33m)\u001b[0m\u001b[1;33m\u001b[0m\u001b[0m\n\u001b[0m\u001b[0;32m      7\u001b[0m         \u001b[1;32mif\u001b[0m \u001b[0mplot\u001b[0m\u001b[1;33m:\u001b[0m\u001b[1;33m\u001b[0m\u001b[0m\n\u001b[0;32m      8\u001b[0m             \u001b[0mclear_output\u001b[0m\u001b[1;33m(\u001b[0m\u001b[0mwait\u001b[0m\u001b[1;33m=\u001b[0m\u001b[1;32mTrue\u001b[0m\u001b[1;33m)\u001b[0m\u001b[1;33m\u001b[0m\u001b[0m\n",
      "\u001b[1;32m<ipython-input-6-a8269073944d>\u001b[0m in \u001b[0;36mlearn\u001b[1;34m(self, inseq, outseq, gprel)\u001b[0m\n\u001b[0;32m     31\u001b[0m             \u001b[1;32melse\u001b[0m\u001b[1;33m:\u001b[0m\u001b[1;33m\u001b[0m\u001b[0m\n\u001b[0;32m     32\u001b[0m                 \u001b[0mx\u001b[0m \u001b[1;33m=\u001b[0m \u001b[0mnp\u001b[0m\u001b[1;33m.\u001b[0m\u001b[0mstack\u001b[0m\u001b[1;33m(\u001b[0m\u001b[1;33m(\u001b[0m\u001b[0my\u001b[0m\u001b[1;33m[\u001b[0m\u001b[1;33m:\u001b[0m\u001b[1;33m,\u001b[0m\u001b[1;36m0\u001b[0m\u001b[1;33m]\u001b[0m\u001b[1;33m,\u001b[0m \u001b[0mnp\u001b[0m\u001b[1;33m.\u001b[0m\u001b[0mones\u001b[0m\u001b[1;33m(\u001b[0m\u001b[0my\u001b[0m\u001b[1;33m.\u001b[0m\u001b[0mshape\u001b[0m\u001b[1;33m[\u001b[0m\u001b[1;36m0\u001b[0m\u001b[1;33m]\u001b[0m\u001b[1;33m)\u001b[0m\u001b[1;33m)\u001b[0m\u001b[1;33m)\u001b[0m\u001b[1;33m.\u001b[0m\u001b[0mtranspose\u001b[0m\u001b[1;33m(\u001b[0m\u001b[1;33m)\u001b[0m\u001b[1;33m\u001b[0m\u001b[0m\n\u001b[1;32m---> 33\u001b[1;33m             \u001b[0movs\u001b[0m\u001b[1;33m,\u001b[0m \u001b[0mm\u001b[0m \u001b[1;33m=\u001b[0m \u001b[0mself\u001b[0m\u001b[1;33m.\u001b[0m\u001b[0mnet\u001b[0m\u001b[1;33m.\u001b[0m\u001b[0mforward\u001b[0m\u001b[1;33m(\u001b[0m\u001b[1;33m(\u001b[0m\u001b[0mx\u001b[0m\u001b[1;33m,\u001b[0m \u001b[1;33m*\u001b[0m\u001b[0mh\u001b[0m\u001b[1;33m)\u001b[0m\u001b[1;33m)\u001b[0m\u001b[1;33m\u001b[0m\u001b[0m\n\u001b[0m\u001b[0;32m     34\u001b[0m             \u001b[0my\u001b[0m\u001b[1;33m,\u001b[0m \u001b[0mh\u001b[0m \u001b[1;33m=\u001b[0m \u001b[0movs\u001b[0m\u001b[1;33m[\u001b[0m\u001b[1;36m0\u001b[0m\u001b[1;33m]\u001b[0m\u001b[1;33m,\u001b[0m \u001b[0movs\u001b[0m\u001b[1;33m[\u001b[0m\u001b[1;36m1\u001b[0m\u001b[1;33m:\u001b[0m\u001b[1;33m]\u001b[0m\u001b[1;33m\u001b[0m\u001b[0m\n\u001b[0;32m     35\u001b[0m             \u001b[0mcache\u001b[0m\u001b[1;33m.\u001b[0m\u001b[0mappend\u001b[0m\u001b[1;33m(\u001b[0m\u001b[1;33m(\u001b[0m\u001b[0mm\u001b[0m\u001b[1;33m,\u001b[0m \u001b[0my\u001b[0m\u001b[1;33m,\u001b[0m \u001b[0mr\u001b[0m\u001b[1;33m)\u001b[0m\u001b[1;33m)\u001b[0m\u001b[1;33m\u001b[0m\u001b[0m\n",
      "\u001b[1;32mC:\\devel\\neural\\netlib\\net.py\u001b[0m in \u001b[0;36mforward\u001b[1;34m(self, x)\u001b[0m\n\u001b[0;32m    127\u001b[0m \u001b[1;33m\u001b[0m\u001b[0m\n\u001b[0;32m    128\u001b[0m     \u001b[1;32mdef\u001b[0m \u001b[0mforward\u001b[0m\u001b[1;33m(\u001b[0m\u001b[0mself\u001b[0m\u001b[1;33m,\u001b[0m \u001b[0mx\u001b[0m\u001b[1;33m)\u001b[0m\u001b[1;33m:\u001b[0m\u001b[1;33m\u001b[0m\u001b[0m\n\u001b[1;32m--> 129\u001b[1;33m         \u001b[1;32mreturn\u001b[0m \u001b[0mself\u001b[0m\u001b[1;33m.\u001b[0m\u001b[0m_propagate\u001b[0m\u001b[1;33m(\u001b[0m\u001b[1;32mNone\u001b[0m\u001b[1;33m,\u001b[0m \u001b[1;32mNone\u001b[0m\u001b[1;33m,\u001b[0m \u001b[0mx\u001b[0m\u001b[1;33m)\u001b[0m\u001b[1;33m\u001b[0m\u001b[0m\n\u001b[0m\u001b[0;32m    130\u001b[0m \u001b[1;33m\u001b[0m\u001b[0m\n\u001b[0;32m    131\u001b[0m     \u001b[1;32mdef\u001b[0m \u001b[0mbackward\u001b[0m\u001b[1;33m(\u001b[0m\u001b[0mself\u001b[0m\u001b[1;33m,\u001b[0m \u001b[0mgrad\u001b[0m\u001b[1;33m,\u001b[0m \u001b[0mcache\u001b[0m\u001b[1;33m,\u001b[0m \u001b[0mdy\u001b[0m\u001b[1;33m)\u001b[0m\u001b[1;33m:\u001b[0m\u001b[1;33m\u001b[0m\u001b[0m\n",
      "\u001b[1;32mC:\\devel\\neural\\netlib\\net.py\u001b[0m in \u001b[0;36m_propagate\u001b[1;34m(self, grad, in_cache, v, back)\u001b[0m\n\u001b[0;32m    108\u001b[0m                     \u001b[0mnx\u001b[0m \u001b[1;33m=\u001b[0m \u001b[0m_unwrap_list\u001b[0m\u001b[1;33m(\u001b[0m\u001b[0minv\u001b[0m\u001b[1;33m)\u001b[0m\u001b[1;33m\u001b[0m\u001b[0m\n\u001b[0;32m    109\u001b[0m                     \u001b[1;32mif\u001b[0m \u001b[1;32mnot\u001b[0m \u001b[0mback\u001b[0m\u001b[1;33m:\u001b[0m\u001b[1;33m\u001b[0m\u001b[0m\n\u001b[1;32m--> 110\u001b[1;33m                         \u001b[0mny\u001b[0m\u001b[1;33m,\u001b[0m \u001b[0mnm\u001b[0m \u001b[1;33m=\u001b[0m \u001b[0mnode\u001b[0m\u001b[1;33m.\u001b[0m\u001b[0mforward\u001b[0m\u001b[1;33m(\u001b[0m\u001b[0mnx\u001b[0m\u001b[1;33m)\u001b[0m\u001b[1;33m\u001b[0m\u001b[0m\n\u001b[0m\u001b[0;32m    111\u001b[0m                         \u001b[0mout_cache\u001b[0m\u001b[1;33m[\u001b[0m\u001b[0mi\u001b[0m\u001b[1;33m]\u001b[0m \u001b[1;33m=\u001b[0m \u001b[0mnm\u001b[0m\u001b[1;33m\u001b[0m\u001b[0m\n\u001b[0;32m    112\u001b[0m                     \u001b[1;32melse\u001b[0m\u001b[1;33m:\u001b[0m\u001b[1;33m\u001b[0m\u001b[0m\n",
      "\u001b[1;32mC:\\devel\\neural\\netlib\\layer\\chain.py\u001b[0m in \u001b[0;36mforward\u001b[1;34m(self, x)\u001b[0m\n\u001b[0;32m     25\u001b[0m         \u001b[0mcache\u001b[0m \u001b[1;33m=\u001b[0m \u001b[1;33m[\u001b[0m\u001b[1;33m]\u001b[0m\u001b[1;33m\u001b[0m\u001b[0m\n\u001b[0;32m     26\u001b[0m         \u001b[1;32mfor\u001b[0m \u001b[0mlayer\u001b[0m \u001b[1;32min\u001b[0m \u001b[0mself\u001b[0m\u001b[1;33m.\u001b[0m\u001b[0mlayers\u001b[0m\u001b[1;33m:\u001b[0m\u001b[1;33m\u001b[0m\u001b[0m\n\u001b[1;32m---> 27\u001b[1;33m             \u001b[0mx\u001b[0m\u001b[1;33m,\u001b[0m \u001b[0mc\u001b[0m \u001b[1;33m=\u001b[0m \u001b[0mlayer\u001b[0m\u001b[1;33m.\u001b[0m\u001b[0mforward\u001b[0m\u001b[1;33m(\u001b[0m\u001b[0mx\u001b[0m\u001b[1;33m)\u001b[0m\u001b[1;33m\u001b[0m\u001b[0m\n\u001b[0m\u001b[0;32m     28\u001b[0m             \u001b[0mcache\u001b[0m\u001b[1;33m.\u001b[0m\u001b[0mappend\u001b[0m\u001b[1;33m(\u001b[0m\u001b[0mc\u001b[0m\u001b[1;33m)\u001b[0m\u001b[1;33m\u001b[0m\u001b[0m\n\u001b[0;32m     29\u001b[0m         \u001b[1;32mreturn\u001b[0m \u001b[0mx\u001b[0m\u001b[1;33m,\u001b[0m \u001b[0mc\u001b[0m\u001b[1;33m\u001b[0m\u001b[0m\n",
      "\u001b[1;32mC:\\devel\\neural\\netlib\\layer\\layer.py\u001b[0m in \u001b[0;36mforward\u001b[1;34m(self, x)\u001b[0m\n\u001b[0;32m     44\u001b[0m \u001b[1;33m\u001b[0m\u001b[0m\n\u001b[0;32m     45\u001b[0m     \u001b[1;32mdef\u001b[0m \u001b[0mforward\u001b[0m\u001b[1;33m(\u001b[0m\u001b[0mself\u001b[0m\u001b[1;33m,\u001b[0m \u001b[0mx\u001b[0m\u001b[1;33m)\u001b[0m\u001b[1;33m:\u001b[0m\u001b[1;33m\u001b[0m\u001b[0m\n\u001b[1;32m---> 46\u001b[1;33m         \u001b[1;32mreturn\u001b[0m \u001b[0mnp\u001b[0m\u001b[1;33m.\u001b[0m\u001b[0mtensordot\u001b[0m\u001b[1;33m(\u001b[0m\u001b[0mx\u001b[0m\u001b[1;33m,\u001b[0m \u001b[0mself\u001b[0m\u001b[1;33m.\u001b[0m\u001b[0mW\u001b[0m\u001b[1;33m,\u001b[0m \u001b[0maxes\u001b[0m\u001b[1;33m=\u001b[0m\u001b[1;33m(\u001b[0m\u001b[1;33m-\u001b[0m\u001b[1;36m1\u001b[0m\u001b[1;33m,\u001b[0m \u001b[1;36m0\u001b[0m\u001b[1;33m)\u001b[0m\u001b[1;33m)\u001b[0m\u001b[1;33m,\u001b[0m \u001b[0mx\u001b[0m\u001b[1;33m\u001b[0m\u001b[0m\n\u001b[0m\u001b[0;32m     47\u001b[0m \u001b[1;33m\u001b[0m\u001b[0m\n\u001b[0;32m     48\u001b[0m     \u001b[1;32mdef\u001b[0m \u001b[0mbackward\u001b[0m\u001b[1;33m(\u001b[0m\u001b[0mself\u001b[0m\u001b[1;33m,\u001b[0m \u001b[0mgrad\u001b[0m\u001b[1;33m,\u001b[0m \u001b[0mcache\u001b[0m\u001b[1;33m,\u001b[0m \u001b[0mdy\u001b[0m\u001b[1;33m)\u001b[0m\u001b[1;33m:\u001b[0m\u001b[1;33m\u001b[0m\u001b[0m\n",
      "\u001b[1;32mC:\\Anaconda3\\lib\\site-packages\\numpy\\core\\numeric.py\u001b[0m in \u001b[0;36mtensordot\u001b[1;34m(a, b, axes)\u001b[0m\n\u001b[0;32m   1281\u001b[0m                 \u001b[0maxes_b\u001b[0m\u001b[1;33m[\u001b[0m\u001b[0mk\u001b[0m\u001b[1;33m]\u001b[0m \u001b[1;33m+=\u001b[0m \u001b[0mndb\u001b[0m\u001b[1;33m\u001b[0m\u001b[0m\n\u001b[0;32m   1282\u001b[0m     \u001b[1;32mif\u001b[0m \u001b[1;32mnot\u001b[0m \u001b[0mequal\u001b[0m\u001b[1;33m:\u001b[0m\u001b[1;33m\u001b[0m\u001b[0m\n\u001b[1;32m-> 1283\u001b[1;33m         \u001b[1;32mraise\u001b[0m \u001b[0mValueError\u001b[0m\u001b[1;33m(\u001b[0m\u001b[1;34m\"shape-mismatch for sum\"\u001b[0m\u001b[1;33m)\u001b[0m\u001b[1;33m\u001b[0m\u001b[0m\n\u001b[0m\u001b[0;32m   1284\u001b[0m \u001b[1;33m\u001b[0m\u001b[0m\n\u001b[0;32m   1285\u001b[0m     \u001b[1;31m# Move the axes to sum over to the end of \"a\"\u001b[0m\u001b[1;33m\u001b[0m\u001b[1;33m\u001b[0m\u001b[0m\n",
      "\u001b[1;31mValueError\u001b[0m: shape-mismatch for sum"
     ]
    }
   ],
   "source": [
    "pos = run_solvers(solvers, seqlen, pos)"
   ]
  },
  {
   "cell_type": "code",
   "execution_count": null,
   "metadata": {},
   "outputs": [],
   "source": [
    "for sol in solvers:\n",
    "    print(\"[%s]\" % sol.name)\n",
    "    print(sol.sample(data[pos], 1000))"
   ]
  },
  {
   "cell_type": "markdown",
   "metadata": {},
   "source": [
    "## Word2Vec"
   ]
  },
  {
   "cell_type": "code",
   "execution_count": 5,
   "metadata": {},
   "outputs": [
    {
     "name": "stdout",
     "output_type": "stream",
     "text": [
      "24656:\tи\n",
      "17760:\tне\n",
      "16372:\tв\n",
      "12700:\tна\n",
      "10526:\tчто\n",
      "8093:\tя\n",
      "7083:\tс\n",
      "6611:\tа\n",
      "5500:\tкак\n",
      "5388:\tон\n",
      "5070:\tты\n",
      "4680:\tто\n",
      "4667:\tиз\n",
      "4467:\tэто\n",
      "4074:\tно\n",
      "3979:\tона\n",
      "3811:\tза\n",
      "3458:\tк\n",
      "3389:\tу\n",
      "3160:\tпо\n",
      "3122:\tего\n",
      "3047:\tгеральт\n",
      "2730:\tот\n",
      "2726:\tтак\n",
      "2571:\tо\n",
      "2563:\tвсе\n",
      "2422:\tее\n",
      "2367:\tже\n",
      "2273:\tбыло\n",
      "2210:\tменя\n",
      "2116:\tцири\n",
      "1961:\tбы\n",
      "1951:\tмне\n",
      "1943:\tведьмак\n",
      "1854:\tмы\n",
      "1852:\tтебя\n",
      "1845:\tеще\n",
      "1803:\tони\n",
      "1767:\tуже\n",
      "1756:\tесли\n",
      "14544 words with more than 5 occurences\n"
     ]
    }
   ],
   "source": [
    "from collections import Counter\n",
    "\n",
    "wtxt = re.sub(\"[\\n !\\\"'\\\\(\\\\)\\\\*,\\\\-\\\\.0123456789:;?]+\", \" \", text.lower()).split()\n",
    "wcnt = Counter(wtxt)\n",
    "occ = 5\n",
    "wcnt_top = {w: c for w, c in wcnt.items() if c > occ}\n",
    "print(\"\\n\".join([\"%s:\\t%s\" % (c, w) for w, c in wcnt.most_common(40)]))\n",
    "print(\"%s words with more than %s occurences\" % (len(wcnt_top), occ))"
   ]
  },
  {
   "cell_type": "code",
   "execution_count": 6,
   "metadata": {},
   "outputs": [
    {
     "name": "stdout",
     "output_type": "stream",
     "text": [
      "[3.94785931e-02 2.84368840e-02 2.62144519e-02 ... 9.60705542e-06\n",
      " 9.60705542e-06 9.60705542e-06]\n",
      "['и', 'как', 'бы', 'нетерпеливо', 'наклонилась', 'коснулась', 'его', 'века', 'щеки', 'губ', 'он', 'улыбнулся', 'медленно', 'осторожно', 'нежно', 'взял', 'ее', 'руки', 'в', 'свои', 'она', 'выпрямилась', 'от', 'его', 'пальцев', 'и', 'от', 'этого', 'света', 'в', 'зари', 'он', 'пошевелился', 'но', 'она', 'решительным', 'нажимом', 'обеих', 'рук', 'остановила', 'его', 'и', 'но', 'движениями', 'бедер', 'ответа', 'он', 'ответил', 'она', 'уже', 'не', 'избегала', 'его', 'рук', 'откинула', 'голову', 'волосами', 'ее', 'кожа', 'была', 'холодной', 'и', 'поразительно', 'гладкой', 'глаза', 'которые', 'он', 'увидел', 'когда', 'она', 'свое', 'лицо', 'к', 'его', 'лицу', 'были', 'огромными', 'и', 'темными', 'как', 'глаза', 'русалки', 'покачиваясь', 'он', 'в', 'море', 'а', 'оно', 'и', 'зашумело', 'потеряв', 'покой', 'ведьмак', 'потом', 'говорили', 'что', 'человек', 'этот', 'пришел', 'с']\n"
     ]
    }
   ],
   "source": [
    "wocc = sorted(wcnt_top.items(), key=lambda x: -x[1])\n",
    "words = [w for w, c in wocc]\n",
    "freqs = np.array([c for w, c in wocc], dtype=np.float64)\n",
    "freqs /= np.sum(freqs)\n",
    "print(freqs)\n",
    "\n",
    "wmap = {w: i for i, w in enumerate(words)}\n",
    "wtxt_top = [w for w in wtxt if w in wmap.keys()]\n",
    "print(wtxt_top[100:200])\n",
    "nums_top = np.array([wmap[w] for w in wtxt if w in wmap.keys()])"
   ]
  },
  {
   "cell_type": "code",
   "execution_count": 7,
   "metadata": {},
   "outputs": [],
   "source": [
    "class W2VNet(Net):\n",
    "    def __init__(self, sizes, ws=None):\n",
    "        self.sizes = sizes\n",
    "        words_count, vec_size = sizes\n",
    "        layers = [SparseAffine(words_count, vec_size, mag=ws), AffineSparse(vec_size, words_count, mag=ws)]\n",
    "        links = [\n",
    "            ((-1, 0), (0, 0)), # xv\n",
    "            ((-1, 1), (0, 1)), # xi\n",
    "            (0, (1, 0)), # h\n",
    "            ((-1, 2), (1, 1)), # yi\n",
    "            (1, -1), # yv\n",
    "        ]\n",
    "        super().__init__(layers, links)"
   ]
  },
  {
   "cell_type": "code",
   "execution_count": 8,
   "metadata": {},
   "outputs": [],
   "source": [
    "class History:\n",
    "    def __init__(self):\n",
    "        self.t = []\n",
    "        self.acc = []\n",
    "        self.loss = []\n",
    "        \n",
    "    def append(self, t, acc, loss):\n",
    "        self.t.append(t)\n",
    "        self.acc.append(acc)\n",
    "        self.loss.append(loss)"
   ]
  },
  {
   "cell_type": "code",
   "execution_count": 9,
   "metadata": {},
   "outputs": [],
   "source": [
    "def plot(history):\n",
    "    plt.subplot(2, 1, 1)\n",
    "    plt.plot(history.t, history.loss)\n",
    "    plt.title(\"Loss: %s\" % history.loss[-1])\n",
    "    \n",
    "    plt.subplot(2, 1, 2)\n",
    "    plt.plot(history.t, history.acc)\n",
    "    #plt.yscale(\"log\")\n",
    "    plt.title(\"Accuracy: %s\" % history.acc[-1])\n",
    "    \n",
    "    plt.show()"
   ]
  },
  {
   "cell_type": "code",
   "execution_count": 10,
   "metadata": {},
   "outputs": [
    {
     "name": "stdout",
     "output_type": "stream",
     "text": [
      "[[  834   778]\n",
      " [ 4854  3884]\n",
      " [ 7698    15]\n",
      " ...\n",
      " [ 1407   141]\n",
      " [    1 14483]\n",
      " [   18    29]]\n"
     ]
    }
   ],
   "source": [
    "word_dist = 2\n",
    "out_count = 5\n",
    "\n",
    "pairs = None\n",
    "for i in range(-word_dist, word_dist+1):\n",
    "    if i == 0:\n",
    "        continue\n",
    "    if i < 0:\n",
    "        ps = np.stack((nums_top[-i:], nums_top[:i]))\n",
    "    else:\n",
    "        ps = np.stack((nums_top[:-i], nums_top[i:]))\n",
    "    if pairs is None:\n",
    "        pairs = ps\n",
    "    else:\n",
    "        np.append(pairs, ps, axis=-1)\n",
    "\n",
    "pairs = pairs.reshape(-1, 2)\n",
    "        \n",
    "print(pairs)"
   ]
  },
  {
   "cell_type": "code",
   "execution_count": 26,
   "metadata": {},
   "outputs": [],
   "source": [
    "vec_size = 64\n",
    "batch_size = 1000\n",
    "weight_scale = 1e-2\n",
    "\n",
    "solver = Solver(\n",
    "    net=W2VNet((len(words), vec_size), weight_scale), \n",
    "    loss=Binary(), optims=[Adam(learn_rate=1e-2)],\n",
    ")"
   ]
  },
  {
   "cell_type": "code",
   "execution_count": 27,
   "metadata": {},
   "outputs": [],
   "source": [
    "pos = 0\n",
    "epoch = 0\n",
    "history = History()\n",
    "smooth_loss = None\n",
    "smooth_hits = None\n",
    "k_smooth = 0.9"
   ]
  },
  {
   "cell_type": "code",
   "execution_count": 28,
   "metadata": {},
   "outputs": [
    {
     "data": {
      "image/png": "[encoded data removed]",
      "text/plain": [
       "<matplotlib.figure.Figure at 0x29720693048>"
      ]
     },
     "metadata": {},
     "output_type": "display_data"
    }
   ],
   "source": [
    "stop_on_signal()\n",
    "while not signal_done:\n",
    "    batch_pairs = pairs[pos:pos+batch_size]\n",
    "    xi = batch_pairs[:,0].reshape(-1,1)\n",
    "    xv = np.ones_like(xi, dtype=np.float32)\n",
    "    yi = np.stack(\n",
    "        [batch_pairs[:,1]] + [np.random.choice(freqs.shape[0], xi.shape[0], p=freqs) for _ in range(out_count-1)]\n",
    "    ).reshape(xi.shape[0], -1)\n",
    "    yr = np.zeros(xi.shape[0], dtype=np.int32).reshape(-1, 1)\n",
    "    \n",
    "    y, loss, _ = solver.learn((xv, xi, yi), yr)\n",
    "    hits = np.sum(np.equal(np.argmax(y, axis=-1), 0))/y.shape[0]\n",
    "    \n",
    "    if smooth_loss is None:\n",
    "        smooth_loss = loss\n",
    "    smooth_loss = k_smooth*smooth_loss + (1-k_smooth)*loss\n",
    "    if smooth_hits is None:\n",
    "        smooth_hits = hits\n",
    "    smooth_hits = k_smooth*smooth_hits + (1-k_smooth)*hits\n",
    "    \n",
    "    if (pos//batch_size + 1)% 10 == 0:\n",
    "        history.append(\n",
    "            epoch + pos/pairs.shape[0],\n",
    "            smooth_hits,\n",
    "            smooth_loss\n",
    "        )\n",
    "\n",
    "        clear_output(wait=True)\n",
    "        plot(history)\n",
    "    \n",
    "    pos += batch_size\n",
    "    if pos >= pairs.shape[0]:\n",
    "        pos = 0\n",
    "        epoch += 1\n",
    "        hits = 0"
   ]
  },
  {
   "cell_type": "code",
   "execution_count": 27,
   "metadata": {},
   "outputs": [
    {
     "name": "stdout",
     "output_type": "stream",
     "text": [
      "[[ 1.30992193  0.7486628   1.01174999 ...  1.6900951  -1.18645457\n",
      "  -1.79528195]\n",
      " [ 1.68731242  0.70230722  0.62579114 ...  1.04383953 -1.28518824\n",
      "  -1.39667214]\n",
      " [ 1.24185665  0.91072149  0.78264821 ...  1.70290727 -1.24957347\n",
      "  -1.98131888]\n",
      " ...\n",
      " [ 0.05379511 -0.03683257  0.12224404 ...  0.067388   -0.0763676\n",
      "  -0.02830217]\n",
      " [ 0.0579678   0.02949584  0.01079382 ...  0.11295779 -0.12742588\n",
      "  -0.13277876]\n",
      " [ 0.15311482  0.14986543  0.10740822 ...  0.12219131 -0.10511877\n",
      "  -0.15469265]]\n"
     ]
    }
   ],
   "source": [
    "word_vec = solver.net.nodes[0].W + solver.net.nodes[1].W\n",
    "print(word_vec)"
   ]
  },
  {
   "cell_type": "code",
   "execution_count": 30,
   "metadata": {},
   "outputs": [],
   "source": [
    "def sort_nearest(word_vec, word):\n",
    "    dist = np.sum((word_vec - word)**2, axis=-1)\n",
    "    return np.argsort(dist)"
   ]
  },
  {
   "cell_type": "code",
   "execution_count": 31,
   "metadata": {},
   "outputs": [
    {
     "name": "stdout",
     "output_type": "stream",
     "text": [
      "['идет' 'видишь' 'золтан' 'ясно' 'благодарю' 'эльф' 'обычно' 'моей' 'весь'\n",
      " 'этим' 'ночь' 'короля' 'подумала' 'пошли' 'таких' 'сколько' 'мое'\n",
      " 'вместо' 'ривии' 'возможно' 'кому' 'буду' 'лошадей' 'ха' 'твои' 'свои'\n",
      " 'скорее' 'эльфов' 'казалось' 'поскольку' 'улыбнулся' 'глазах' 'твой'\n",
      " 'землю' 'таким' 'которым' 'холодно' 'начал' 'таки' 'начала' 'жизнь'\n",
      " 'видела' 'дийкстра' 'прервал' 'скажу' 'отсюда' 'крикнула' 'ко' 'эй'\n",
      " 'двух' 'вероятно' 'смерть' 'нос' 'мечом' 'говорю' 'этих' 'трудом' 'знала'\n",
      " 'ветер' 'слово' 'думал' 'геральту' 'давно' 'хотела' 'филиппа' 'нем'\n",
      " 'меча' 'давай' 'наверняка' 'собой' 'сделал' 'чародей' 'увидел' 'похоже'\n",
      " 'спиной' 'свой' 'стол' 'продолжал' 'чуть' 'цинтры' 'сделать' 'против'\n",
      " 'рук' 'ради' 'говори' 'громко' 'дня' 'королева' 'стоит' 'колени' 'мои'\n",
      " 'риенс' 'вроде' 'других' 'нельзя' 'едва' 'далеко' 'самое' 'видеть' 'ярре']\n"
     ]
    }
   ],
   "source": [
    "print(np.array(words)[sort_nearest(word_vec, word_vec[wmap[\"идет\"]])[:100]])"
   ]
  },
  {
   "cell_type": "code",
   "execution_count": null,
   "metadata": {},
   "outputs": [],
   "source": []
  }
 ],
 "metadata": {
  "kernelspec": {
   "display_name": "Python 3",
   "language": "python",
   "name": "python3"
  },
  "language_info": {
   "codemirror_mode": {
    "name": "ipython",
    "version": 3
   },
   "file_extension": ".py",
   "mimetype": "text/x-python",
   "name": "python",
   "nbconvert_exporter": "python",
   "pygments_lexer": "ipython3",
   "version": "3.6.4"
  }
 },
 "nbformat": 4,
 "nbformat_minor": 2
}
