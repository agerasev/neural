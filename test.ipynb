{
 "cells": [
  {
   "cell_type": "code",
   "execution_count": 7,
   "metadata": {},
   "outputs": [
    {
     "name": "stdout",
     "output_type": "stream",
     "text": [
      "The autoreload extension is already loaded. To reload it, use:\n",
      "  %reload_ext autoreload\n"
     ]
    }
   ],
   "source": [
    "import numpy as np\n",
    "\n",
    "import matplotlib.pyplot as plt\n",
    "\n",
    "%matplotlib inline\n",
    "plt.rcParams['figure.figsize'] = (10.0, 8.0)\n",
    "plt.rcParams['image.interpolation'] = 'bilinear'\n",
    "plt.rcParams['image.cmap'] = 'gray'\n",
    "\n",
    "from util import *\n",
    "from node import *\n",
    "from optim import *\n",
    "from net import Net\n",
    "\n",
    "%load_ext autoreload\n",
    "%autoreload 2"
   ]
  },
  {
   "cell_type": "code",
   "execution_count": 12,
   "metadata": {},
   "outputs": [
    {
     "name": "stdout",
     "output_type": "stream",
     "text": [
      "1.6178908905809515\n",
      "0.9098701810613494\n",
      "0.5325392922178276\n",
      "0.3504645707198639\n",
      "0.25468131085707124\n",
      "0.19801954341434222\n",
      "0.16121823396159257\n",
      "0.13560736436771356\n",
      "0.11684229796850894\n",
      "0.10254104960858065\n"
     ]
    }
   ],
   "source": [
    "sx, sy = 10, 5\n",
    "x = np.zeros(sx, dtype=np.float64)\n",
    "x[0] = 1\n",
    "r = 0\n",
    "\n",
    "W = Affine(sx, sy)\n",
    "\n",
    "for i in range(10):\n",
    "    grad = W.newgrad()\n",
    "    for j in range(100):\n",
    "        y, m = W.feed_mem(x)\n",
    "        smy = softmax(y)\n",
    "        dy = np.copy(smy)\n",
    "        dy[r] -= 1\n",
    "        W.backprop(grad, m, dy)\n",
    "    W.W -= 1e-2*grad.W\n",
    "    print(ce_loss(smy, r))"
   ]
  },
  {
   "cell_type": "code",
   "execution_count": null,
   "metadata": {},
   "outputs": [],
   "source": []
  }
 ],
 "metadata": {
  "kernelspec": {
   "display_name": "Python 3",
   "language": "python",
   "name": "python3"
  },
  "language_info": {
   "codemirror_mode": {
    "name": "ipython",
    "version": 3
   },
   "file_extension": ".py",
   "mimetype": "text/x-python",
   "name": "python",
   "nbconvert_exporter": "python",
   "pygments_lexer": "ipython3",
   "version": "3.6.4"
  }
 },
 "nbformat": 4,
 "nbformat_minor": 2
}
