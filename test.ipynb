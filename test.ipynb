{
 "cells": [
  {
   "cell_type": "code",
   "execution_count": 15,
   "metadata": {},
   "outputs": [
    {
     "name": "stdout",
     "output_type": "stream",
     "text": [
      "The autoreload extension is already loaded. To reload it, use:\n",
      "  %reload_ext autoreload\n"
     ]
    }
   ],
   "source": [
    "import numpy as np\n",
    "\n",
    "import matplotlib.pyplot as plt\n",
    "\n",
    "%matplotlib inline\n",
    "plt.rcParams['figure.figsize'] = (10.0, 8.0)\n",
    "plt.rcParams['image.interpolation'] = 'bilinear'\n",
    "plt.rcParams['image.cmap'] = 'gray'\n",
    "\n",
    "from util import *\n",
    "from node import *\n",
    "from optim import *\n",
    "from net import Net\n",
    "\n",
    "%load_ext autoreload\n",
    "%autoreload 2"
   ]
  },
  {
   "cell_type": "code",
   "execution_count": 40,
   "metadata": {},
   "outputs": [
    {
     "name": "stdout",
     "output_type": "stream",
     "text": [
      "1.6113753151613384\n",
      "1.353924229842834\n",
      "1.134249157560461\n",
      "0.9515100304613381\n",
      "0.8023921696631909\n",
      "0.6821215649784945\n",
      "0.5855424672334943\n",
      "0.5078713659917012\n",
      "0.44505303715424643\n",
      "0.3938295634840607\n"
     ]
    }
   ],
   "source": [
    "sx, sy = 10, 5\n",
    "n = 3\n",
    "x = np.zeros((n, sx), dtype=np.float64)\n",
    "for i in range(n):\n",
    "    x[i][i] = 1\n",
    "r = np.arange(n)\n",
    "\n",
    "W = Affine(sx, sy)\n",
    "\n",
    "for i in range(10):\n",
    "    grad = W.newgrad()\n",
    "    for j in range(100):\n",
    "        y, m = W.feed_mem(x)\n",
    "        smy = softmax(y)\n",
    "        dy = ce_softmax_deriv(smy, r)\n",
    "        W.backprop(grad, m, dy)\n",
    "    W.W -= 1e-2*grad.W\n",
    "    print(ce_loss(smy, r))"
   ]
  },
  {
   "cell_type": "code",
   "execution_count": null,
   "metadata": {},
   "outputs": [],
   "source": []
  }
 ],
 "metadata": {
  "kernelspec": {
   "display_name": "Python 3",
   "language": "python",
   "name": "python3"
  },
  "language_info": {
   "codemirror_mode": {
    "name": "ipython",
    "version": 3
   },
   "file_extension": ".py",
   "mimetype": "text/x-python",
   "name": "python",
   "nbconvert_exporter": "python",
   "pygments_lexer": "ipython3",
   "version": "3.6.4"
  }
 },
 "nbformat": 4,
 "nbformat_minor": 2
}
