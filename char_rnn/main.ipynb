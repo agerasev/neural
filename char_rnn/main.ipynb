{
 "cells": [
  {
   "cell_type": "code",
   "execution_count": 1,
   "metadata": {},
   "outputs": [],
   "source": [
    "import numpy as np\n",
    "import os\n",
    "import gzip\n",
    "import random\n",
    "import time\n",
    "\n",
    "import scipy.ndimage as nd\n",
    "import PIL.Image\n",
    "from IPython.display import clear_output, Image, display\n",
    "from io import BytesIO"
   ]
  },
  {
   "cell_type": "code",
   "execution_count": 6,
   "metadata": {},
   "outputs": [
    {
     "name": "stdout",
     "output_type": "stream",
     "text": [
      "['\\n', ' ', '!', '\"', \"'\", '(', ')', '*', ',', '-', '.', '0', '1', '2', '3', '4', '5', '6', '7', '8', '9', ':', ';', '?', 'A', 'B', 'C', 'D', 'E', 'F', 'G', 'H', 'I', 'J', 'K', 'L', 'M', 'N', 'O', 'P', 'Q', 'R', 'S', 'T', 'U', 'V', 'W', 'X', 'Y', 'Z', 'a', 'b', 'c', 'd', 'e', 'f', 'g', 'h', 'i', 'j', 'k', 'l', 'm', 'n', 'o', 'p', 'q', 'r', 's', 't', 'u', 'v', 'w', 'x', 'y', 'z', 'А', 'Б', 'В', 'Г', 'Д', 'Е', 'Ж', 'З', 'И', 'Й', 'К', 'Л', 'М', 'Н', 'О', 'П', 'Р', 'С', 'Т', 'У', 'Ф', 'Х', 'Ц', 'Ч', 'Ш', 'Щ', 'Ы', 'Ь', 'Э', 'Ю', 'Я', 'а', 'б', 'в', 'г', 'д', 'е', 'ж', 'з', 'и', 'й', 'к', 'л', 'м', 'н', 'о', 'п', 'р', 'с', 'т', 'у', 'ф', 'х', 'ц', 'ч', 'ш', 'щ', 'ъ', 'ы', 'ь', 'э', 'ю', 'я', 'ё']\n",
      "5088376 chars\n"
     ]
    }
   ],
   "source": [
    "data = \"\"\n",
    "ddir = \"../data/books/witcher_rus/\"\n",
    "for fn in sorted(os.listdir(ddir)):\n",
    "    if fn.endswith(\".gz\"):\n",
    "        with gzip.open(ddir + fn, \"rb\") as f:\n",
    "            data += f.read().decode(\"utf-8\").replace(\"\\r\", \"\")\n",
    "print(sorted(set(data)))\n",
    "print(\"%s chars\" % len(data))"
   ]
  },
  {
   "cell_type": "markdown",
   "metadata": {},
   "source": [
    "Network schematics:\n",
    "```\n",
    "         +-<-[bh|Whh]-<-+-{h}\n",
    "         |              |\n",
    "-[Wxh]->-+->--[tanh]-->-+->-[Why|by]-\n",
    "```"
   ]
  },
  {
   "cell_type": "code",
   "execution_count": 5,
   "metadata": {},
   "outputs": [],
   "source": [
    "class Net:\n",
    "    def __init__(self, sx, sy, sz):\n",
    "        self.sizes = (sx, sy, sz)\n",
    "        opts = {\"dtype\": np.float32}\n",
    "        \n",
    "        self.Wxh = np.zeros((sx, sh), **opts)\n",
    "        self.Whh = np.zeros((sh, sh), **opts)\n",
    "        self.Why = np.zeros((sh, sy), **opts)\n",
    "        \n",
    "        self.bh = np.zeros(sh, **opts)\n",
    "        self.by = np.zeros(sy, **opts)\n",
    "        \n",
    "        self.h = np.zeros(sh, **opts)\n",
    "    \n",
    "    def randomize(self, mag):\n",
    "        for k in [\"Wxh\", \"Whh\", \"Why\", \"bh\", \"by\"]:\n",
    "            setattr(self, k, mag*np.random.randn(*getattr(self, k).shape))\n",
    "\n",
    "    def __iter__(self):\n",
    "        return iter([self.Wxh, self.Whh, self.Why, self.bh, self.by])\n",
    "\n",
    "    def zcopy(self):\n",
    "        return Net(*self.sizes)\n",
    "\n",
    "    def mkmem(self):\n",
    "        return [[np.zeros_like(b) for _ in range(2)] for b in self.biases]\n",
    "\n",
    "    def fill(self, value):\n",
    "        for v in self:\n",
    "            v.fill(value)"
   ]
  },
  {
   "cell_type": "code",
   "execution_count": 6,
   "metadata": {},
   "outputs": [],
   "source": [
    "def act(x):\n",
    "    return np.tanh(x)\n",
    "\n",
    "def act_deriv(x):\n",
    "        return 1/np.cosh(x)**2\n",
    "\n",
    "def cost(a, y):\n",
    "    d = a - y\n",
    "    return np.dot(d, d)/2\n",
    "\n",
    "def cost_deriv(a, y):\n",
    "    return a - y"
   ]
  },
  {
   "cell_type": "code",
   "execution_count": 7,
   "metadata": {},
   "outputs": [],
   "source": [
    "def feedforward(net, x, fmem=False):\n",
    "    a = x + net.biases[0]\n",
    "    if fmem:\n",
    "        mem = net.mkmem()\n",
    "        mem[0][0] = a\n",
    "    else:\n",
    "        mem = None\n",
    "\n",
    "    for i, (w, b) in enumerate(zip(net.weights, net.biases[1:])):\n",
    "        a = act(a)\n",
    "        if fmem:\n",
    "            mem[i][1] = a\n",
    "\n",
    "        a = np.dot(w, a) + b\n",
    "        if fmem:\n",
    "            mem[i + 1][0] = a\n",
    "\n",
    "    return (a, mem)"
   ]
  },
  {
   "cell_type": "code",
   "execution_count": 8,
   "metadata": {},
   "outputs": [],
   "source": [
    "def backprop(net, a, y, mem, neterr):\n",
    "    e = cost_deriv(a, y)\n",
    "    zmem = list(zip(*mem))\n",
    "    zlist = list(zip(\n",
    "        net.weights, net.biases[1:],\n",
    "        neterr.weights, neterr.biases[1:],\n",
    "        zmem[0][1:], zmem[1][:-1]\n",
    "    ))\n",
    "    last = True\n",
    "    for w, b, ew, eb, v, ap in reversed(zlist):\n",
    "        if not last:\n",
    "            e = e*act_deriv(v)\n",
    "        eb += e\n",
    "        ew += np.outer(e, ap)\n",
    "        e = np.dot(e.transpose(), w)\n",
    "        last = False\n",
    "    neterr.biases[0] += e"
   ]
  },
  {
   "cell_type": "code",
   "execution_count": 9,
   "metadata": {},
   "outputs": [],
   "source": [
    "def learn(net, neterr, rate, adagrad=None):\n",
    "    if adagrad is None:\n",
    "        for v, ev in zip(net, neterr):\n",
    "            v -= rate*ev\n",
    "    else:\n",
    "        for v, ev, av in zip(net, neterr, adagrad):\n",
    "            av += ev**2\n",
    "            v -= rate*(ev/np.sqrt(av + 1e-8))"
   ]
  },
  {
   "cell_type": "code",
   "execution_count": 10,
   "metadata": {},
   "outputs": [],
   "source": [
    "net = Net((imgsize[0]*imgsize[1], 30, 10), mag=1e-2)\n",
    "neterr = net.zcopy()\n",
    "adagrad = net.zcopy()"
   ]
  },
  {
   "cell_type": "code",
   "execution_count": 11,
   "metadata": {},
   "outputs": [
    {
     "name": "stdout",
     "output_type": "stream",
     "text": [
      "epoch 0:\n",
      "train:\n",
      "cost avg: 0.0953\n",
      "time elapsed: 17.27 s\n",
      "test:\n",
      "cost avg: 0.0747\n",
      "hit count: 9292 / 10000\n",
      "time elapsed: 0.48 s\n",
      "epoch 1:\n",
      "train:\n",
      "cost avg: 0.0726\n",
      "time elapsed: 16.89 s\n",
      "test:\n",
      "cost avg: 0.0687\n",
      "hit count: 9342 / 10000\n",
      "time elapsed: 0.55 s\n",
      "epoch 2:\n",
      "train:\n",
      "cost avg: 0.0677\n",
      "time elapsed: 20.24 s\n",
      "test:\n",
      "cost avg: 0.0656\n",
      "hit count: 9375 / 10000\n",
      "time elapsed: 0.45 s\n",
      "epoch 3:\n",
      "train:\n",
      "cost avg: 0.0650\n",
      "time elapsed: 20.68 s\n",
      "test:\n",
      "cost avg: 0.0641\n",
      "hit count: 9375 / 10000\n",
      "time elapsed: 1.30 s\n",
      "epoch 4:\n",
      "train:\n",
      "cost avg: 0.0632\n",
      "time elapsed: 20.32 s\n",
      "test:\n",
      "cost avg: 0.0632\n",
      "hit count: 9380 / 10000\n",
      "time elapsed: 0.52 s\n",
      "epoch 5:\n",
      "train:\n",
      "cost avg: 0.0617\n",
      "time elapsed: 15.12 s\n",
      "test:\n",
      "cost avg: 0.0617\n",
      "hit count: 9394 / 10000\n",
      "time elapsed: 0.41 s\n",
      "epoch 6:\n",
      "train:\n",
      "cost avg: 0.0607\n",
      "time elapsed: 16.59 s\n",
      "test:\n",
      "cost avg: 0.0614\n",
      "hit count: 9386 / 10000\n",
      "time elapsed: 0.47 s\n",
      "epoch 7:\n",
      "train:\n",
      "cost avg: 0.0598\n",
      "time elapsed: 16.08 s\n",
      "test:\n",
      "cost avg: 0.0611\n",
      "hit count: 9398 / 10000\n",
      "time elapsed: 0.42 s\n",
      "epoch 8:\n",
      "train:\n",
      "cost avg: 0.0591\n",
      "time elapsed: 15.52 s\n",
      "test:\n",
      "cost avg: 0.0605\n",
      "hit count: 9392 / 10000\n",
      "time elapsed: 0.47 s\n",
      "epoch 9:\n",
      "train:\n",
      "cost avg: 0.0585\n",
      "time elapsed: 15.44 s\n",
      "test:\n",
      "cost avg: 0.0597\n",
      "hit count: 9400 / 10000\n",
      "time elapsed: 0.47 s\n",
      "done\n"
     ]
    }
   ],
   "source": [
    "batchsize = 10\n",
    "rate = 3e-1\n",
    "for iepoch in range(10):\n",
    "    print(\"epoch %d:\" % iepoch)\n",
    "    print(\"train:\")\n",
    "    totalcost = 0.0\n",
    "    tstart = time.time()\n",
    "    random.shuffle(trainset)\n",
    "    for batch in [trainset[p:p+batchsize] for p in range(0, len(trainset), batchsize)]:\n",
    "        for digit, img in batch:\n",
    "            res = np.array([i == digit for i in range(10)])\n",
    "            out, netmem = feedforward(net, img, fmem=True)\n",
    "            totalcost += cost(out, res)\n",
    "            backprop(net, out, res, netmem, neterr)\n",
    "        learn(net, neterr, rate/batchsize, adagrad)\n",
    "        neterr.fill(0)\n",
    "    print(\"cost avg: %.4f\" % (totalcost/len(trainset)))\n",
    "    print(\"time elapsed: %.2f s\" % (time.time() - tstart))\n",
    "\n",
    "    print(\"test:\")\n",
    "    totalcost = 0.0\n",
    "    hitcount = 0\n",
    "    tstart = time.time()\n",
    "    for digit, img in testset:\n",
    "        res = np.array([i == digit for i in range(10)])\n",
    "        out, _ = feedforward(net, img)\n",
    "        totalcost += cost(out, res)\n",
    "        hitcount += digit == np.argmax(out)\n",
    "    print(\"cost avg: %.4f\" % (totalcost/len(testset)))\n",
    "    print(\"hit count: %d / %d\" % (hitcount, len(testset)))\n",
    "    print(\"time elapsed: %.2f s\" % (time.time() - tstart))\n",
    "\n",
    "print(\"done\")"
   ]
  },
  {
   "cell_type": "code",
   "execution_count": 12,
   "metadata": {},
   "outputs": [
    {
     "data": {
      "text/plain": [
       "'1: 1'"
      ]
     },
     "metadata": {},
     "output_type": "display_data"
    },
    {
     "data": {
      "image/jpeg": "[encoded data removed]",
      "text/plain": [
       "<IPython.core.display.Image object>"
      ]
     },
     "metadata": {},
     "output_type": "display_data"
    },
    {
     "data": {
      "text/plain": [
       "'0: 0'"
      ]
     },
     "metadata": {},
     "output_type": "display_data"
    },
    {
     "data": {
      "image/jpeg": "[encoded data removed]",
      "text/plain": [
       "<IPython.core.display.Image object>"
      ]
     },
     "metadata": {},
     "output_type": "display_data"
    },
    {
     "data": {
      "text/plain": [
       "'6: 6'"
      ]
     },
     "metadata": {},
     "output_type": "display_data"
    },
    {
     "data": {
      "image/jpeg": "[encoded data removed]",
      "text/plain": [
       "<IPython.core.display.Image object>"
      ]
     },
     "metadata": {},
     "output_type": "display_data"
    },
    {
     "data": {
      "text/plain": [
       "'9: 9'"
      ]
     },
     "metadata": {},
     "output_type": "display_data"
    },
    {
     "data": {
      "image/jpeg": "[encoded data removed]",
      "text/plain": [
       "<IPython.core.display.Image object>"
      ]
     },
     "metadata": {},
     "output_type": "display_data"
    },
    {
     "data": {
      "text/plain": [
       "'0: 0'"
      ]
     },
     "metadata": {},
     "output_type": "display_data"
    },
    {
     "data": {
      "image/jpeg": "[encoded data removed]",
      "text/plain": [
       "<IPython.core.display.Image object>"
      ]
     },
     "metadata": {},
     "output_type": "display_data"
    }
   ],
   "source": [
    "random.shuffle(testset)\n",
    "for digit, img in testset[:5]:\n",
    "        out, _ = feedforward(net, img)\n",
    "        display(\"%s: %s\"  % (digit, np.argmax(out)), mkimg(img, imgsize))"
   ]
  },
  {
   "cell_type": "code",
   "execution_count": 13,
   "metadata": {},
   "outputs": [
    {
     "data": {
      "text/plain": [
       "0"
      ]
     },
     "metadata": {},
     "output_type": "display_data"
    },
    {
     "data": {
      "text/plain": [
       "0.000496736855122969"
      ]
     },
     "metadata": {},
     "output_type": "display_data"
    },
    {
     "data": {
      "image/jpeg": "[encoded data removed]",
      "text/plain": [
       "<IPython.core.display.Image object>"
      ]
     },
     "metadata": {},
     "output_type": "display_data"
    },
    {
     "data": {
      "text/plain": [
       "1"
      ]
     },
     "metadata": {},
     "output_type": "display_data"
    },
    {
     "data": {
      "text/plain": [
       "8.595038852260855e-05"
      ]
     },
     "metadata": {},
     "output_type": "display_data"
    },
    {
     "data": {
      "image/jpeg": "[encoded data removed]",
      "text/plain": [
       "<IPython.core.display.Image object>"
      ]
     },
     "metadata": {},
     "output_type": "display_data"
    },
    {
     "data": {
      "text/plain": [
       "2"
      ]
     },
     "metadata": {},
     "output_type": "display_data"
    },
    {
     "data": {
      "text/plain": [
       "2.5428273331054487e-05"
      ]
     },
     "metadata": {},
     "output_type": "display_data"
    },
    {
     "data": {
      "image/jpeg": "[encoded data removed]",
      "text/plain": [
       "<IPython.core.display.Image object>"
      ]
     },
     "metadata": {},
     "output_type": "display_data"
    },
    {
     "data": {
      "text/plain": [
       "3"
      ]
     },
     "metadata": {},
     "output_type": "display_data"
    },
    {
     "data": {
      "text/plain": [
       "8.972776632565726e-05"
      ]
     },
     "metadata": {},
     "output_type": "display_data"
    },
    {
     "data": {
      "image/jpeg": "[encoded data removed]",
      "text/plain": [
       "<IPython.core.display.Image object>"
      ]
     },
     "metadata": {},
     "output_type": "display_data"
    },
    {
     "data": {
      "text/plain": [
       "4"
      ]
     },
     "metadata": {},
     "output_type": "display_data"
    },
    {
     "data": {
      "text/plain": [
       "0.00016960729717330902"
      ]
     },
     "metadata": {},
     "output_type": "display_data"
    },
    {
     "data": {
      "image/jpeg": "[encoded data removed]",
      "text/plain": [
       "<IPython.core.display.Image object>"
      ]
     },
     "metadata": {},
     "output_type": "display_data"
    },
    {
     "data": {
      "text/plain": [
       "5"
      ]
     },
     "metadata": {},
     "output_type": "display_data"
    },
    {
     "data": {
      "text/plain": [
       "2.3185344142863525e-05"
      ]
     },
     "metadata": {},
     "output_type": "display_data"
    },
    {
     "data": {
      "image/jpeg": "[encoded data removed]",
      "text/plain": [
       "<IPython.core.display.Image object>"
      ]
     },
     "metadata": {},
     "output_type": "display_data"
    },
    {
     "data": {
      "text/plain": [
       "6"
      ]
     },
     "metadata": {},
     "output_type": "display_data"
    },
    {
     "data": {
      "text/plain": [
       "0.0002010939806266625"
      ]
     },
     "metadata": {},
     "output_type": "display_data"
    },
    {
     "data": {
      "image/jpeg": "[encoded data removed]",
      "text/plain": [
       "<IPython.core.display.Image object>"
      ]
     },
     "metadata": {},
     "output_type": "display_data"
    },
    {
     "data": {
      "text/plain": [
       "7"
      ]
     },
     "metadata": {},
     "output_type": "display_data"
    },
    {
     "data": {
      "text/plain": [
       "8.742895787855701e-05"
      ]
     },
     "metadata": {},
     "output_type": "display_data"
    },
    {
     "data": {
      "image/jpeg": "[encoded data removed]",
      "text/plain": [
       "<IPython.core.display.Image object>"
      ]
     },
     "metadata": {},
     "output_type": "display_data"
    },
    {
     "data": {
      "text/plain": [
       "8"
      ]
     },
     "metadata": {},
     "output_type": "display_data"
    },
    {
     "data": {
      "text/plain": [
       "0.0028123830821686"
      ]
     },
     "metadata": {},
     "output_type": "display_data"
    },
    {
     "data": {
      "image/jpeg": "[encoded data removed]",
      "text/plain": [
       "<IPython.core.display.Image object>"
      ]
     },
     "metadata": {},
     "output_type": "display_data"
    },
    {
     "data": {
      "text/plain": [
       "9"
      ]
     },
     "metadata": {},
     "output_type": "display_data"
    },
    {
     "data": {
      "text/plain": [
       "7.173522811827803e-05"
      ]
     },
     "metadata": {},
     "output_type": "display_data"
    },
    {
     "data": {
      "image/jpeg": "[encoded data removed]",
      "text/plain": [
       "<IPython.core.display.Image object>"
      ]
     },
     "metadata": {},
     "output_type": "display_data"
    }
   ],
   "source": [
    "rate = 1e-1\n",
    "for digit in range(10):\n",
    "    img = np.random.random(net.sizes[0])*1e-2\n",
    "    res = np.array([i == digit for i in range(10)])\n",
    "    for i in range(1000):\n",
    "        out, mem = feedforward(net, img, fmem=True)\n",
    "        cv = cost(out, res)\n",
    "        neterr.fill(0)\n",
    "        backprop(net, out, res, mem, neterr)\n",
    "        img -= rate*neterr.biases[0]\n",
    "        img = np.clip(img, 0, 1)\n",
    "    display(np.argmax(out), cv, mkimg(img, imgsize))"
   ]
  }
 ],
 "metadata": {
  "kernelspec": {
   "display_name": "Python 3",
   "language": "python",
   "name": "python3"
  },
  "language_info": {
   "codemirror_mode": {
    "name": "ipython",
    "version": 3
   },
   "file_extension": ".py",
   "mimetype": "text/x-python",
   "name": "python",
   "nbconvert_exporter": "python",
   "pygments_lexer": "ipython3",
   "version": "3.6.4"
  }
 },
 "nbformat": 4,
 "nbformat_minor": 2
}
