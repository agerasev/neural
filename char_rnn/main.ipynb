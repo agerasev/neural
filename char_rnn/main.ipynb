{
 "cells": [
  {
   "cell_type": "code",
   "execution_count": 2,
   "metadata": {},
   "outputs": [
    {
     "name": "stdout",
     "output_type": "stream",
     "text": [
      "The autoreload extension is already loaded. To reload it, use:\n",
      "  %reload_ext autoreload\n"
     ]
    }
   ],
   "source": [
    "import numpy as np\n",
    "import os\n",
    "import gzip\n",
    "import random\n",
    "import time\n",
    "import signal\n",
    "\n",
    "import scipy.ndimage as nd\n",
    "import PIL.Image\n",
    "from IPython.display import clear_output, Image, display\n",
    "from io import BytesIO\n",
    "\n",
    "import matplotlib.pyplot as plt\n",
    "\n",
    "%matplotlib inline\n",
    "plt.rcParams['figure.figsize'] = (10.0, 8.0)\n",
    "plt.rcParams['image.interpolation'] = 'bilinear'\n",
    "plt.rcParams['image.cmap'] = 'hot'\n",
    "\n",
    "%load_ext autoreload\n",
    "%autoreload 2"
   ]
  },
  {
   "cell_type": "code",
   "execution_count": 3,
   "metadata": {},
   "outputs": [
    {
     "name": "stdout",
     "output_type": "stream",
     "text": [
      "['\\n', ' ', '!', '\"', \"'\", '(', ')', '*', ',', '-', '.', '0', '1', '2', '3', '4', '5', '6', '7', '8', '9', ':', ';', '?', 'A', 'B', 'C', 'D', 'E', 'F', 'G', 'H', 'I', 'J', 'K', 'L', 'M', 'N', 'O', 'P', 'Q', 'R', 'S', 'T', 'U', 'V', 'W', 'X', 'Y', 'Z', 'a', 'b', 'c', 'd', 'e', 'f', 'g', 'h', 'i', 'j', 'k', 'l', 'm', 'n', 'o', 'p', 'q', 'r', 's', 't', 'u', 'v', 'w', 'x', 'y', 'z', 'А', 'Б', 'В', 'Г', 'Д', 'Е', 'Ж', 'З', 'И', 'Й', 'К', 'Л', 'М', 'Н', 'О', 'П', 'Р', 'С', 'Т', 'У', 'Ф', 'Х', 'Ц', 'Ч', 'Ш', 'Щ', 'Ы', 'Ь', 'Э', 'Ю', 'Я', 'а', 'б', 'в', 'г', 'д', 'е', 'ж', 'з', 'и', 'й', 'к', 'л', 'м', 'н', 'о', 'п', 'р', 'с', 'т', 'у', 'ф', 'х', 'ц', 'ч', 'ш', 'щ', 'ъ', 'ы', 'ь', 'э', 'ю', 'я', 'ё']\n",
      "5088376 chars, 140 unique\n"
     ]
    }
   ],
   "source": [
    "data = \"\"\n",
    "ddir = \"../data/books/witcher_rus/\"\n",
    "for fn in sorted(os.listdir(ddir)):\n",
    "    if fn.endswith(\".gz\"):\n",
    "        with gzip.open(ddir + fn, \"rb\") as f:\n",
    "            data += f.read().decode(\"utf-8\").replace(\"\\r\", \"\")\n",
    "charset = sorted(set(data))\n",
    "print(charset)\n",
    "print(\"%s chars, %s unique\" % (len(data), len(charset)))\n",
    "chidx = {ch: i for i, ch in enumerate(charset)}\n",
    "chvec = {ch: np.array([chidx[ch] == i for i in range(len(charset))], dtype=np.float64) for ch in charset}"
   ]
  },
  {
   "cell_type": "code",
   "execution_count": 4,
   "metadata": {},
   "outputs": [],
   "source": [
    "#charset = sorted(set(\"\".join(charset).lower()))\n",
    "#print(charset)\n",
    "#chidx = {ch: i for i, ch in enumerate(charset)}\n",
    "#chvec = {ch: np.array([chidx[ch] == i for i in range(len(charset))], dtype=np.float64) for ch in charset}\n",
    "#for ch in charset:\n",
    "#    if ch.islower():\n",
    "#        chidx[ch.upper()] = chidx[ch]\n",
    "#        chvec[ch.upper()] = chvec[ch]"
   ]
  },
  {
   "cell_type": "code",
   "execution_count": 13,
   "metadata": {},
   "outputs": [],
   "source": [
    "def tanh_deriv(x):\n",
    "        return 1/np.cosh(x)**2\n",
    "\n",
    "def sigmoid(x):\n",
    "    ex = np.exp(x)\n",
    "    return ex/(ex + 1)\n",
    "\n",
    "def sigmoid_deriv(x):\n",
    "    ex = np.exp(x)\n",
    "    return ex/(ex + 1)**2\n",
    "    \n",
    "def softmax(y):\n",
    "    y = y - np.max(y)\n",
    "    ey = np.exp(y)\n",
    "    return ey/np.sum(ey)\n",
    "\n",
    "def cross_entropy_loss(y, r):\n",
    "    return -np.log(np.dot(y, r))"
   ]
  },
  {
   "cell_type": "code",
   "execution_count": 6,
   "metadata": {},
   "outputs": [],
   "source": [
    "class Cell:\n",
    "    def __init__(self, sx, sh, sy, mag=1e-1):\n",
    "        self.sizes = (sx, sh, sy)\n",
    "        layer_sizes = [(sx, sh), (sh, sh), (sh, sy)] # W_xh, W_hh, W_hy\n",
    "        self.params = [ mag*np.random.randn(*s) for s in layer_sizes]\n",
    "    \n",
    "    def newgrad(self):\n",
    "        return [np.zeros_like(v) for v in self.params]\n",
    "    \n",
    "    def newstate(self):\n",
    "        return np.zeros(self.sizes[1], dtype=np.float64)\n",
    "    \n",
    "    def step(self, h, x, mem=False):\n",
    "        W_xh, W_hh, W_hy = self.params\n",
    "        v = np.dot(x, W_xh) + np.dot(h, W_hh)\n",
    "        a = np.tanh(v)\n",
    "        y = np.dot(a, W_hy)\n",
    "        if mem:\n",
    "            m = [x, h, v, a, y]\n",
    "        else:\n",
    "            m = None\n",
    "        return a, softmax(y), m\n",
    "    \n",
    "    def backprop_step(self, grad, eh, m, ey):\n",
    "        W_xh, W_hh, W_hy = self.params\n",
    "        dW_xh, dW_hh, dW_hy = grad\n",
    "        x, h, v, a, y = m\n",
    "        \n",
    "        dW_hy += np.outer(a, ey)\n",
    "        ea = np.dot(W_hy, ey) + eh\n",
    "        ev = ea*tanh_deriv(v)\n",
    "        dW_xh += np.outer(x, ev)\n",
    "        dW_hh += np.outer(h, ev)\n",
    "        eh = np.dot(W_hh, ev)\n",
    "        \n",
    "        return eh\n",
    "    \n",
    "    def learn(self, grad, learning_rate, adagrad=None, rmsprop=0):\n",
    "        if adagrad is None: \n",
    "            for W, dW in zip(self.params, grad):\n",
    "                W -= learning_rate*dW\n",
    "        else:\n",
    "            for W, dW, aW in zip(self.params, grad, adagrad):\n",
    "                aW += dW**2\n",
    "                if rmsprop != 0:\n",
    "                    aW *= (1 - rmsprop)\n",
    "                W -= learning_rate*dW/np.sqrt(aW + 1e-8)"
   ]
  },
  {
   "cell_type": "code",
   "execution_count": 7,
   "metadata": {},
   "outputs": [],
   "source": [
    "def train(net, in_seq, out_seq, learning_rate, h=None, adagrad=None, rmsprop=0, clip=5):\n",
    "    seqlen = min(len(in_seq), len(out_seq))\n",
    "    \n",
    "    # forward pass\n",
    "    loss = 0.0\n",
    "    memory = []\n",
    "    if h is None:\n",
    "        h = net.newstate()\n",
    "    for x, r in zip(in_seq, out_seq):\n",
    "        h, y, m = net.step(h, x, mem=True)\n",
    "        memory.append((m, y, r))\n",
    "        loss += cross_entropy_loss(y, r)\n",
    "    loss /= seqlen\n",
    "    \n",
    "    # error backpropagation\n",
    "    grad = net.newgrad()\n",
    "    eh = net.newstate()\n",
    "    for m, y, r in reversed(memory):\n",
    "        net.backprop_step(grad, eh, m, y - r)\n",
    "    for dW in grad:\n",
    "        dW /= seqlen\n",
    "        np.clip(dW, -clip, clip, out=dW) # mitigate exploding gradient\n",
    "    \n",
    "    # gradient descent\n",
    "    net.learn(grad, learning_rate, adagrad=adagrad, rmsprop=rmsprop)\n",
    "\n",
    "    return loss, h"
   ]
  },
  {
   "cell_type": "code",
   "execution_count": 8,
   "metadata": {},
   "outputs": [],
   "source": [
    "class TrainingContext:\n",
    "    def __init__(self, name, **params):\n",
    "        self.name = name\n",
    "        \n",
    "        inout_size = params[\"charset_size\"]\n",
    "        self.net = Cell(inout_size, params[\"hidden_size\"], inout_size)\n",
    "        self.h = self.net.newstate()\n",
    "        \n",
    "        self.loss = None #-np.log(1.0/inout_size)*params[\"sequence_length\"]\n",
    "        self.loss_history = []\n",
    "        \n",
    "        self.adagrad = self.net.newgrad() if params.get(\"adagrad\", False) else None\n",
    "        self.params = params\n",
    "        \n",
    "    def train(self, in_seq, out_seq):\n",
    "        loss, self.h = train(\n",
    "            self.net, in_seq, out_seq,\n",
    "            self.params[\"learning_rate\"],\n",
    "            adagrad=self.adagrad,\n",
    "            rmsprop=self.params.get(\"rmsprop\", 0)\n",
    "        )\n",
    "        if self.loss is None:\n",
    "            self.loss = loss\n",
    "        else:\n",
    "            self.loss = 0.99*self.loss + 0.01*loss\n",
    "    \n",
    "    def sample(self, x, size):\n",
    "        out = \"\"\n",
    "        h = self.h\n",
    "        for i in range(size):\n",
    "            h, y, _ = self.net.step(h, x)\n",
    "            ch = np.random.choice(charset, p=y)\n",
    "            x = chvec[ch]\n",
    "            out += ch\n",
    "        return out"
   ]
  },
  {
   "cell_type": "code",
   "execution_count": 9,
   "metadata": {},
   "outputs": [],
   "source": [
    "hsize = 50\n",
    "seqlen = 100\n",
    "\n",
    "params = {\n",
    "    \"hidden_size\": 50,\n",
    "    \"charset_size\": len(charset),\n",
    "    \"sequence_length\": seqlen,\n",
    "    \"learning_rate\": 1e-1\n",
    "}\n",
    "ctx_sgd = TrainingContext(\"SGD\", **params)\n",
    "ctx_adagrad = TrainingContext(\"AdaGrad\", **params, adagrad=True)\n",
    "ctx_rmsprop = TrainingContext(\"RMSProp\", **params, adagrad=True, rmsprop=1e-3)"
   ]
  },
  {
   "cell_type": "code",
   "execution_count": 10,
   "metadata": {},
   "outputs": [],
   "source": [
    "sequences = []\n",
    "for i in range(0, len(data), seqlen):\n",
    "    in_seq, out_seq = data[i:i+seqlen], data[i+1:i+seqlen]\n",
    "    sequences.append((\n",
    "        [chvec[ch] for ch in in_seq],\n",
    "        [chvec[ch] for ch in out_seq]\n",
    "    ))\n",
    "\n",
    "epoch = 0\n",
    "iseq = 0\n",
    "seq_labels = []"
   ]
  },
  {
   "cell_type": "code",
   "execution_count": 11,
   "metadata": {},
   "outputs": [
    {
     "data": {
      "image/png": "[encoded data removed]",
      "text/plain": [
       "<matplotlib.figure.Figure at 0x1cdf927de80>"
      ]
     },
     "metadata": {},
     "output_type": "display_data"
    },
    {
     "name": "stdout",
     "output_type": "stream",
     "text": [
      "stop\n"
     ]
    }
   ],
   "source": [
    "done = False\n",
    "def signal_handler(signal, frame):\n",
    "    global done\n",
    "    done = True\n",
    "signal.signal(signal.SIGINT, signal_handler)\n",
    "\n",
    "while not done:\n",
    "    for ctx in [ctx_sgd, ctx_adagrad, ctx_rmsprop]:\n",
    "        ctx.train(*sequences[iseq])\n",
    "    \n",
    "    if iseq % 100 == 0:\n",
    "        clear_output(wait=True)\n",
    "        seq_labels.append(epoch + iseq/len(sequences))\n",
    "        start = 1\n",
    "        for ctx in [ctx_sgd, ctx_adagrad, ctx_rmsprop]:\n",
    "            ctx.loss_history.append(ctx.loss)\n",
    "            plt.plot(seq_labels, ctx.loss_history, label=ctx.name)\n",
    "        plt.legend()\n",
    "        plt.show()\n",
    "        \n",
    "    iseq += 1\n",
    "    if iseq >= len(sequences):\n",
    "        iseq = 0\n",
    "        epoch += 1\n",
    "\n",
    "print(\"stop\")"
   ]
  },
  {
   "cell_type": "code",
   "execution_count": 12,
   "metadata": {},
   "outputs": [
    {
     "name": "stdout",
     "output_type": "stream",
     "text": [
      "SGD: ' итутьс. - и драсномь хщедном\n",
      "., Доровилиюд,о..\n",
      "\n",
      "-qs валь ы посереви снору снела нлотримыД. Ги пичин'\n",
      "AdaGrad: ' А- попо не брин..\n",
      "\n",
      "- Я неньми и бало, нецаяжитника. Ль мижался вы такларающий ку. Ну потому. - что '\n",
      "RMSProp: ' Вещена, я льнук пелько разутре тольшода тькаску вее. Поднем посторуго мы уситраз, протих сещертили '\n"
     ]
    }
   ],
   "source": [
    "for ctx in [ctx_sgd, ctx_adagrad, ctx_rmsprop]:\n",
    "    print(\"%s: '%s'\" % (ctx.name, ctx.sample(sequences[iseq][1][-1], 100)))"
   ]
  },
  {
   "cell_type": "code",
   "execution_count": null,
   "metadata": {},
   "outputs": [],
   "source": [
    "class LSTMCell:\n",
    "    def __init__(self, sx, sh, sc, sy, mag=1e-1):\n",
    "        self.sizes = (sx, sh, sc, sy)\n",
    "        # W_xh, W_f, W_i, W_o, W_, W_hy\n",
    "        layer_sizes = [\n",
    "            (sx, sh), # W_xh\n",
    "            (sh, sc), (sh, sc), (sh, sc), # W_f, W_i, W_hc\n",
    "            (sh, sc), (sc, sh), # W_o, W_ch\n",
    "            (sh, sy), (sh, sy) # W_hy\n",
    "        ]\n",
    "        self.params = [ mag*np.random.randn(*s) for s in layer_sizes]\n",
    "    \n",
    "    def newgrad(self):\n",
    "        return [np.zeros_like(v) for v in self.params]\n",
    "    \n",
    "    def newstate(self):\n",
    "        return np.zeros(self.sizes[1], dtype=np.float64)\n",
    "    \n",
    "    def step(self, h, c, x, mem=False):\n",
    "        W_xh, W_f, W_i, W_hc, W_o, W_ch, W_hy = self.params\n",
    "        \n",
    "        if mem:\n",
    "            m = [\n",
    "                x, \n",
    "                f_o,\n",
    "                i_o, hc_o,\n",
    "                o_o, ch_i, ch_o,\n",
    "                h_i, h_o,\n",
    "                c_i, c_o,\n",
    "                i_hy, y\n",
    "            ]\n",
    "        else:\n",
    "            m = None\n",
    "        return a, softmax(y), m\n",
    "    \n",
    "    def backprop_step(self, grad, eh, m, ey):\n",
    "        W_xh, W_hh, W_hy = self.params\n",
    "        dW_xh, dW_hh, dW_hy = grad\n",
    "        x, h, v, a, y = m\n",
    "        \n",
    "        dW_hy += np.outer(a, ey)\n",
    "        ea = np.dot(W_hy, ey) + eh\n",
    "        ev = ea*tanh_deriv(v)\n",
    "        dW_xh += np.outer(x, ev)\n",
    "        dW_hh += np.outer(h, ev)\n",
    "        eh = np.dot(W_hh, ev)\n",
    "        \n",
    "        return eh\n",
    "    \n",
    "    def learn(self, grad, learning_rate, adagrad=None, rmsprop=0):\n",
    "        if adagrad is None: \n",
    "            for W, dW in zip(self.params, grad):\n",
    "                W -= learning_rate*dW\n",
    "        else:\n",
    "            for W, dW, aW in zip(self.params, grad, adagrad):\n",
    "                aW += dW**2\n",
    "                if rmsprop != 0:\n",
    "                    aW *= (1 - rmsprop)\n",
    "                W -= learning_rate*dW/np.sqrt(aW + 1e-8)"
   ]
  }
 ],
 "metadata": {
  "kernelspec": {
   "display_name": "Python 3",
   "language": "python",
   "name": "python3"
  },
  "language_info": {
   "codemirror_mode": {
    "name": "ipython",
    "version": 3
   },
   "file_extension": ".py",
   "mimetype": "text/x-python",
   "name": "python",
   "nbconvert_exporter": "python",
   "pygments_lexer": "ipython3",
   "version": "3.6.4"
  }
 },
 "nbformat": 4,
 "nbformat_minor": 2
}
